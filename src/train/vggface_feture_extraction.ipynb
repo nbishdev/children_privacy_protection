{
 "cells": [
  {
   "cell_type": "markdown",
   "metadata": {},
   "source": [
    "# VGGFace feature extraction model"
   ]
  },
  {
   "cell_type": "code",
   "execution_count": 1,
   "metadata": {},
   "outputs": [
    {
     "name": "stderr",
     "output_type": "stream",
     "text": [
      "/home/ld/anaconda3/envs/dl/lib/python3.8/site-packages/tensorflow_addons/utils/ensure_tf_install.py:37: UserWarning: You are currently using a nightly version of TensorFlow (2.7.0-dev20210924). \n",
      "TensorFlow Addons offers no support for the nightly versions of TensorFlow. Some things might work, some other might not. \n",
      "If you encounter a bug, do not file an issue on GitHub.\n",
      "  warnings.warn(\n"
     ]
    },
    {
     "name": "stdout",
     "output_type": "stream",
     "text": [
      "TensorFlow Version 2.7.0-dev20210924\n"
     ]
    }
   ],
   "source": [
    "import pandas as pd\n",
    "import numpy as np\n",
    "import tensorflow as tf\n",
    "import tensorflow_addons as tfa\n",
    "import glob, warnings\n",
    "import matplotlib.pyplot as plt\n",
    "from keras_vggface.vggface import VGGFace\n",
    "from sklearn.metrics import confusion_matrix, classification_report\n",
    "from scipy.special import softmax\n",
    "from keras_vggface.vggface import VGGFace\n",
    "\n",
    "warnings.filterwarnings('ignore')\n",
    "print('TensorFlow Version ' + tf.__version__)"
   ]
  },
  {
   "cell_type": "markdown",
   "metadata": {},
   "source": [
    "## Setting the parameters"
   ]
  },
  {
   "cell_type": "code",
   "execution_count": 2,
   "metadata": {},
   "outputs": [],
   "source": [
    "IMAGE_SIZE = 224\n",
    "BATCH_SIZE = 16\n",
    "EPOCHS = 300\n",
    "\n",
    "train_dir = '../dataset/data/classified'\n",
    "val_dir = '../dataset/data/validation'\n",
    "test_dir = '../dataset/data/test'\n",
    "\n",
    "classes = {0 : \"Baby\",\n",
    "           1 : \"Not Baby\"}"
   ]
  },
  {
   "cell_type": "markdown",
   "metadata": {},
   "source": [
    "## Defining Data Augmentation Function"
   ]
  },
  {
   "cell_type": "code",
   "execution_count": 3,
   "metadata": {},
   "outputs": [],
   "source": [
    "def data_augment(image):\n",
    "    p_spatial = tf.random.uniform([], 0, 1.0, dtype = tf.float32)\n",
    "    p_rotate = tf.random.uniform([], 0, 1.0, dtype = tf.float32)\n",
    "    p_pixel_1 = tf.random.uniform([], 0, 1.0, dtype = tf.float32)\n",
    "    p_pixel_2 = tf.random.uniform([], 0, 1.0, dtype = tf.float32)\n",
    "    p_pixel_3 = tf.random.uniform([], 0, 1.0, dtype = tf.float32)\n",
    "    \n",
    "    # Flips\n",
    "    image = tf.image.random_flip_left_right(image)\n",
    "    image = tf.image.random_flip_up_down(image)\n",
    "    \n",
    "    if p_spatial > .75:\n",
    "        image = tf.image.transpose(image)\n",
    "        \n",
    "    # Rotates\n",
    "    if p_rotate > .75:\n",
    "        image = tf.image.rot90(image, k = 3) # rotate 270º\n",
    "    elif p_rotate > .5:\n",
    "        image = tf.image.rot90(image, k = 2) # rotate 180º\n",
    "    elif p_rotate > .25:\n",
    "        image = tf.image.rot90(image, k = 1) # rotate 90º\n",
    "        \n",
    "    # Pixel-level transforms\n",
    "    if p_pixel_1 >= .4:\n",
    "        image = tf.image.random_saturation(image, lower = .7, upper = 1.3)\n",
    "    if p_pixel_2 >= .4:\n",
    "        image = tf.image.random_contrast(image, lower = .8, upper = 1.2)\n",
    "    if p_pixel_3 >= .4:\n",
    "        image = tf.image.random_brightness(image, max_delta = .1)\n",
    "        \n",
    "    return image"
   ]
  },
  {
   "cell_type": "markdown",
   "metadata": {},
   "source": [
    "## Defining Data Generators"
   ]
  },
  {
   "cell_type": "code",
   "execution_count": 4,
   "metadata": {},
   "outputs": [
    {
     "name": "stdout",
     "output_type": "stream",
     "text": [
      "Found 109 images belonging to 2 classes.\n",
      "Found 31 images belonging to 2 classes.\n",
      "Found 18 images belonging to 2 classes.\n"
     ]
    }
   ],
   "source": [
    "datagen = tf.keras.preprocessing.image.ImageDataGenerator(rescale = 1./255,\n",
    "                                                          samplewise_center = True,\n",
    "                                                          samplewise_std_normalization = True,\n",
    "                                                          preprocessing_function = data_augment)\n",
    "\n",
    "val_test_datagen = tf.keras.preprocessing.image.ImageDataGenerator(rescale = 1./255,\n",
    "                                                          samplewise_center = True,\n",
    "                                                          samplewise_std_normalization = True)\n",
    "\n",
    "\n",
    "val_test_datagen.apply_transform\n",
    "\n",
    "train_ds = datagen.flow_from_directory(\n",
    "        train_dir,\n",
    "        target_size=(IMAGE_SIZE, IMAGE_SIZE),\n",
    "        batch_size=BATCH_SIZE,\n",
    "        seed = 1,\n",
    "        color_mode = 'rgb',\n",
    "        shuffle = True,\n",
    "        class_mode='binary')\n",
    "\n",
    "val_ds = val_test_datagen.flow_from_directory(\n",
    "        val_dir,\n",
    "        target_size=(IMAGE_SIZE, IMAGE_SIZE),\n",
    "        batch_size=BATCH_SIZE,\n",
    "        color_mode = 'rgb',\n",
    "        shuffle = True,\n",
    "        class_mode='binary')\n",
    "\n",
    "test_ds = val_test_datagen.flow_from_directory(\n",
    "        test_dir,\n",
    "        target_size=(IMAGE_SIZE, IMAGE_SIZE),\n",
    "        batch_size=BATCH_SIZE,\n",
    "        color_mode = 'rgb',\n",
    "        class_mode='binary')\n",
    "\n",
    "# test_ds = tf.keras.utils.image_dataset_from_directory(\n",
    "#         test_dir,\n",
    "#         image_size=(IMAGE_SIZE, IMAGE_SIZE),\n",
    "#         batch_size=BATCH_SIZE)"
   ]
  },
  {
   "cell_type": "code",
   "execution_count": 5,
   "metadata": {},
   "outputs": [
    {
     "name": "stderr",
     "output_type": "stream",
     "text": [
      "2021-09-26 19:23:12.188191: I tensorflow/stream_executor/cuda/cuda_gpu_executor.cc:939] successful NUMA node read from SysFS had negative value (-1), but there must be at least one NUMA node, so returning NUMA node zero\n",
      "2021-09-26 19:23:12.201308: I tensorflow/stream_executor/cuda/cuda_gpu_executor.cc:939] successful NUMA node read from SysFS had negative value (-1), but there must be at least one NUMA node, so returning NUMA node zero\n",
      "2021-09-26 19:23:12.201950: I tensorflow/stream_executor/cuda/cuda_gpu_executor.cc:939] successful NUMA node read from SysFS had negative value (-1), but there must be at least one NUMA node, so returning NUMA node zero\n",
      "2021-09-26 19:23:12.203459: I tensorflow/stream_executor/cuda/cuda_gpu_executor.cc:939] successful NUMA node read from SysFS had negative value (-1), but there must be at least one NUMA node, so returning NUMA node zero\n",
      "2021-09-26 19:23:12.204027: I tensorflow/stream_executor/cuda/cuda_gpu_executor.cc:939] successful NUMA node read from SysFS had negative value (-1), but there must be at least one NUMA node, so returning NUMA node zero\n",
      "2021-09-26 19:23:12.204535: I tensorflow/stream_executor/cuda/cuda_gpu_executor.cc:939] successful NUMA node read from SysFS had negative value (-1), but there must be at least one NUMA node, so returning NUMA node zero\n",
      "2021-09-26 19:23:12.781300: I tensorflow/stream_executor/cuda/cuda_gpu_executor.cc:939] successful NUMA node read from SysFS had negative value (-1), but there must be at least one NUMA node, so returning NUMA node zero\n",
      "2021-09-26 19:23:12.781738: I tensorflow/stream_executor/cuda/cuda_gpu_executor.cc:939] successful NUMA node read from SysFS had negative value (-1), but there must be at least one NUMA node, so returning NUMA node zero\n",
      "2021-09-26 19:23:12.782337: I tensorflow/stream_executor/cuda/cuda_gpu_executor.cc:939] successful NUMA node read from SysFS had negative value (-1), but there must be at least one NUMA node, so returning NUMA node zero\n",
      "2021-09-26 19:23:12.782687: I tensorflow/core/common_runtime/gpu/gpu_device.cc:1525] Created device /job:localhost/replica:0/task:0/device:GPU:0 with 3001 MB memory:  -> device: 0, name: NVIDIA GeForce GTX 1660 Ti, pci bus id: 0000:01:00.0, compute capability: 7.5\n",
      "Clipping input data to the valid range for imshow with RGB data ([0..1] for floats or [0..255] for integers).\n"
     ]
    },
    {
     "name": "stdout",
     "output_type": "stream",
     "text": [
      "(224, 224, 3)\n"
     ]
    },
    {
     "data": {
      "text/plain": [
       "<matplotlib.image.AxesImage at 0x7f90d5086ca0>"
      ]
     },
     "execution_count": 5,
     "metadata": {},
     "output_type": "execute_result"
    },
    {
     "data": {
      "image/png": "[encoded data removed]",
      "text/plain": [
       "<Figure size 432x288 with 1 Axes>"
      ]
     },
     "metadata": {
      "needs_background": "light"
     },
     "output_type": "display_data"
    }
   ],
   "source": [
    "x = train_ds.next()\n",
    "image = x[0][0]\n",
    "print(image.shape)\n",
    "plt.imshow(image)"
   ]
  },
  {
   "cell_type": "code",
   "execution_count": 6,
   "metadata": {},
   "outputs": [],
   "source": [
    "cat_img = plt.imread('../dataset/data/classified/baby/1.jpeg')"
   ]
  },
  {
   "cell_type": "code",
   "execution_count": 7,
   "metadata": {},
   "outputs": [
    {
     "data": {
      "text/plain": [
       "<matplotlib.image.AxesImage at 0x7f90d4fc9610>"
      ]
     },
     "execution_count": 7,
     "metadata": {},
     "output_type": "execute_result"
    },
    {
     "data": {
      "image/png": "[encoded data removed]",
      "text/plain": [
       "<Figure size 432x288 with 1 Axes>"
      ]
     },
     "metadata": {
      "needs_background": "light"
     },
     "output_type": "display_data"
    }
   ],
   "source": [
    "plt.imshow(cat_img)"
   ]
  },
  {
   "cell_type": "markdown",
   "metadata": {},
   "source": [
    "## Loading the VGGFace model"
   ]
  },
  {
   "cell_type": "code",
   "execution_count": 9,
   "metadata": {},
   "outputs": [],
   "source": [
    "vgg_model = VGGFace(include_top=False, input_shape=(IMAGE_SIZE, IMAGE_SIZE, 3), pooling='avg') \n",
    "vgg_model.trainable = False"
   ]
  },
  {
   "cell_type": "markdown",
   "metadata": {},
   "source": [
    "## Creating the model"
   ]
  },
  {
   "cell_type": "code",
   "execution_count": 10,
   "metadata": {},
   "outputs": [
    {
     "name": "stdout",
     "output_type": "stream",
     "text": [
      "Model: \"model\"\n",
      "_________________________________________________________________\n",
      " Layer (type)                Output Shape              Param #   \n",
      "=================================================================\n",
      " input_1 (InputLayer)        [(None, 224, 224, 3)]     0         \n",
      "                                                                 \n",
      " conv1_1 (Conv2D)            (None, 224, 224, 64)      1792      \n",
      "                                                                 \n",
      " conv1_2 (Conv2D)            (None, 224, 224, 64)      36928     \n",
      "                                                                 \n",
      " pool1 (MaxPooling2D)        (None, 112, 112, 64)      0         \n",
      "                                                                 \n",
      " conv2_1 (Conv2D)            (None, 112, 112, 128)     73856     \n",
      "                                                                 \n",
      " conv2_2 (Conv2D)            (None, 112, 112, 128)     147584    \n",
      "                                                                 \n",
      " pool2 (MaxPooling2D)        (None, 56, 56, 128)       0         \n",
      "                                                                 \n",
      " conv3_1 (Conv2D)            (None, 56, 56, 256)       295168    \n",
      "                                                                 \n",
      " conv3_2 (Conv2D)            (None, 56, 56, 256)       590080    \n",
      "                                                                 \n",
      " conv3_3 (Conv2D)            (None, 56, 56, 256)       590080    \n",
      "                                                                 \n",
      " pool3 (MaxPooling2D)        (None, 28, 28, 256)       0         \n",
      "                                                                 \n",
      " conv4_1 (Conv2D)            (None, 28, 28, 512)       1180160   \n",
      "                                                                 \n",
      " conv4_2 (Conv2D)            (None, 28, 28, 512)       2359808   \n",
      "                                                                 \n",
      " conv4_3 (Conv2D)            (None, 28, 28, 512)       2359808   \n",
      "                                                                 \n",
      " pool4 (MaxPooling2D)        (None, 14, 14, 512)       0         \n",
      "                                                                 \n",
      " conv5_1 (Conv2D)            (None, 14, 14, 512)       2359808   \n",
      "                                                                 \n",
      " conv5_2 (Conv2D)            (None, 14, 14, 512)       2359808   \n",
      "                                                                 \n",
      " conv5_3 (Conv2D)            (None, 14, 14, 512)       2359808   \n",
      "                                                                 \n",
      " pool5 (MaxPooling2D)        (None, 7, 7, 512)         0         \n",
      "                                                                 \n",
      " global_average_pooling2d (G  (None, 512)              0         \n",
      " lobalAveragePooling2D)                                          \n",
      "                                                                 \n",
      " flatten (Flatten)           (None, 512)               0         \n",
      "                                                                 \n",
      " dense (Dense)               (None, 32)                16416     \n",
      "                                                                 \n",
      " dense_1 (Dense)             (None, 16)                528       \n",
      "                                                                 \n",
      " classifier (Dense)          (None, 1)                 17        \n",
      "                                                                 \n",
      "=================================================================\n",
      "Total params: 14,731,649\n",
      "Trainable params: 16,961\n",
      "Non-trainable params: 14,714,688\n",
      "_________________________________________________________________\n"
     ]
    }
   ],
   "source": [
    "x = tf.keras.layers.Flatten(name='flatten')(vgg_model.output)\n",
    "x = tf.keras.layers.Dense(32, activation='relu',)(x)\n",
    "x = tf.keras.layers.Dense(16, activation='relu',)(x)\n",
    "out = tf.keras.layers.Dense(1, activation='sigmoid', name='classifier')(x)\n",
    "custom_vgg_model = tf.keras.Model(vgg_model.input, out)\n",
    "\n",
    "custom_vgg_model.summary()"
   ]
  },
  {
   "cell_type": "markdown",
   "metadata": {},
   "source": [
    "## Defining Callbacks"
   ]
  },
  {
   "cell_type": "code",
   "execution_count": 11,
   "metadata": {},
   "outputs": [],
   "source": [
    "learning_rate = 1e-4\n",
    "\n",
    "optimizer = tf.optimizers.Adam(learning_rate = learning_rate)\n",
    "\n",
    "custom_vgg_model.compile(optimizer = optimizer, \n",
    "              loss = tf.keras.losses.binary_crossentropy, \n",
    "              metrics = ['accuracy'])\n",
    "\n",
    "STEP_SIZE_TRAIN = train_ds.n // train_ds.batch_size\n",
    "# STEP_SIZE_VALID = val_ds.n // val_ds.batch_size\n",
    "\n",
    "reduce_lr = tf.keras.callbacks.ReduceLROnPlateau(monitor = 'val_accuracy',\n",
    "                                                 factor = 0.2,\n",
    "                                                 patience = 10,\n",
    "#                                                  verbose = 1,\n",
    "                                                 min_delta = 1e-4,\n",
    "                                                 min_lr = 1e-6,\n",
    "                                                 mode = 'max')\n",
    "\n",
    "earlystopping = tf.keras.callbacks.EarlyStopping(monitor = 'val_accuracy',\n",
    "                                                 min_delta = 1e-4,\n",
    "                                                 patience = 50,\n",
    "                                                 mode = 'max',\n",
    "#                                                  verbose = 1,\n",
    "                                                 restore_best_weights = True)\n",
    "\n",
    "checkpointer = tf.keras.callbacks.ModelCheckpoint(filepath = './model_vgg.hdf5',\n",
    "                                                  monitor = 'val_accuracy', \n",
    "#                                                   verbose = 1, \n",
    "                                                  save_best_only = True,\n",
    "                                                  save_weights_only = True,\n",
    "                                                  mode = 'max')\n",
    "\n",
    "callbacks = [checkpointer, earlystopping, reduce_lr] #reduce_lr earlystopping\n",
    "\n"
   ]
  },
  {
   "cell_type": "markdown",
   "metadata": {},
   "source": [
    "## Training the Model"
   ]
  },
  {
   "cell_type": "code",
   "execution_count": 12,
   "metadata": {},
   "outputs": [
    {
     "name": "stdout",
     "output_type": "stream",
     "text": [
      "Epoch 1/300\n"
     ]
    },
    {
     "name": "stderr",
     "output_type": "stream",
     "text": [
      "2021-09-26 19:23:15.795942: I tensorflow/stream_executor/cuda/cuda_dnn.cc:366] Loaded cuDNN version 8202\n",
      "2021-09-26 19:23:17.866736: W tensorflow/core/common_runtime/bfc_allocator.cc:275] Allocator (GPU_0_bfc) ran out of memory trying to allocate 2.54GiB with freed_by_count=0. The caller indicates that this is not a failure, but may mean that there could be performance gains if more memory were available.\n",
      "2021-09-26 19:23:17.866829: W tensorflow/core/common_runtime/bfc_allocator.cc:275] Allocator (GPU_0_bfc) ran out of memory trying to allocate 2.54GiB with freed_by_count=0. The caller indicates that this is not a failure, but may mean that there could be performance gains if more memory were available.\n"
     ]
    },
    {
     "name": "stdout",
     "output_type": "stream",
     "text": [
      "4/6 [===================>..........] - ETA: 0s - loss: 0.6919 - accuracy: 0.5625"
     ]
    },
    {
     "name": "stderr",
     "output_type": "stream",
     "text": [
      "2021-09-26 19:23:22.277181: W tensorflow/core/common_runtime/bfc_allocator.cc:275] Allocator (GPU_0_bfc) ran out of memory trying to allocate 2.44GiB with freed_by_count=0. The caller indicates that this is not a failure, but may mean that there could be performance gains if more memory were available.\n",
      "2021-09-26 19:23:22.277329: W tensorflow/core/common_runtime/bfc_allocator.cc:275] Allocator (GPU_0_bfc) ran out of memory trying to allocate 2.44GiB with freed_by_count=0. The caller indicates that this is not a failure, but may mean that there could be performance gains if more memory were available.\n"
     ]
    },
    {
     "name": "stdout",
     "output_type": "stream",
     "text": [
      "6/6 [==============================] - ETA: 0s - loss: 0.6917 - accuracy: 0.5914"
     ]
    },
    {
     "name": "stderr",
     "output_type": "stream",
     "text": [
      "2021-09-26 19:23:26.337150: W tensorflow/core/common_runtime/bfc_allocator.cc:275] Allocator (GPU_0_bfc) ran out of memory trying to allocate 2.50GiB with freed_by_count=0. The caller indicates that this is not a failure, but may mean that there could be performance gains if more memory were available.\n",
      "2021-09-26 19:23:26.337296: W tensorflow/core/common_runtime/bfc_allocator.cc:275] Allocator (GPU_0_bfc) ran out of memory trying to allocate 2.50GiB with freed_by_count=0. The caller indicates that this is not a failure, but may mean that there could be performance gains if more memory were available.\n"
     ]
    },
    {
     "name": "stdout",
     "output_type": "stream",
     "text": [
      "6/6 [==============================] - 16s 2s/step - loss: 0.6917 - accuracy: 0.5914 - val_loss: 0.6914 - val_accuracy: 0.4839 - lr: 1.0000e-04\n",
      "Epoch 2/300\n",
      "6/6 [==============================] - 2s 404ms/step - loss: 0.6923 - accuracy: 0.5938 - val_loss: 0.6899 - val_accuracy: 0.6129 - lr: 1.0000e-04\n",
      "Epoch 3/300\n",
      "6/6 [==============================] - 2s 390ms/step - loss: 0.6893 - accuracy: 0.6022 - val_loss: 0.6883 - val_accuracy: 0.6774 - lr: 1.0000e-04\n",
      "Epoch 4/300\n",
      "6/6 [==============================] - 2s 289ms/step - loss: 0.6852 - accuracy: 0.7312 - val_loss: 0.6866 - val_accuracy: 0.6129 - lr: 1.0000e-04\n",
      "Epoch 5/300\n",
      "6/6 [==============================] - 2s 303ms/step - loss: 0.6865 - accuracy: 0.6667 - val_loss: 0.6851 - val_accuracy: 0.6452 - lr: 1.0000e-04\n",
      "Epoch 6/300\n",
      "6/6 [==============================] - 2s 284ms/step - loss: 0.6836 - accuracy: 0.7312 - val_loss: 0.6840 - val_accuracy: 0.6129 - lr: 1.0000e-04\n",
      "Epoch 7/300\n",
      "6/6 [==============================] - 2s 316ms/step - loss: 0.6850 - accuracy: 0.7204 - val_loss: 0.6827 - val_accuracy: 0.6774 - lr: 1.0000e-04\n",
      "Epoch 8/300\n",
      "6/6 [==============================] - 2s 273ms/step - loss: 0.6818 - accuracy: 0.7527 - val_loss: 0.6808 - val_accuracy: 0.6452 - lr: 1.0000e-04\n",
      "Epoch 9/300\n",
      "6/6 [==============================] - 2s 267ms/step - loss: 0.6791 - accuracy: 0.6989 - val_loss: 0.6785 - val_accuracy: 0.6452 - lr: 1.0000e-04\n",
      "Epoch 10/300\n",
      "6/6 [==============================] - 2s 277ms/step - loss: 0.6771 - accuracy: 0.7312 - val_loss: 0.6760 - val_accuracy: 0.6452 - lr: 1.0000e-04\n",
      "Epoch 11/300\n",
      "6/6 [==============================] - 2s 269ms/step - loss: 0.6740 - accuracy: 0.7312 - val_loss: 0.6736 - val_accuracy: 0.6129 - lr: 1.0000e-04\n",
      "Epoch 12/300\n",
      "6/6 [==============================] - 2s 276ms/step - loss: 0.6681 - accuracy: 0.7849 - val_loss: 0.6709 - val_accuracy: 0.6129 - lr: 1.0000e-04\n",
      "Epoch 13/300\n",
      "6/6 [==============================] - 2s 268ms/step - loss: 0.6703 - accuracy: 0.7849 - val_loss: 0.6681 - val_accuracy: 0.6452 - lr: 1.0000e-04\n",
      "Epoch 14/300\n",
      "6/6 [==============================] - 2s 270ms/step - loss: 0.6690 - accuracy: 0.7419 - val_loss: 0.6676 - val_accuracy: 0.6452 - lr: 2.0000e-05\n",
      "Epoch 15/300\n",
      "6/6 [==============================] - 2s 298ms/step - loss: 0.6668 - accuracy: 0.8172 - val_loss: 0.6670 - val_accuracy: 0.6452 - lr: 2.0000e-05\n",
      "Epoch 16/300\n",
      "6/6 [==============================] - 2s 281ms/step - loss: 0.6662 - accuracy: 0.7527 - val_loss: 0.6664 - val_accuracy: 0.6129 - lr: 2.0000e-05\n",
      "Epoch 17/300\n",
      "6/6 [==============================] - 2s 274ms/step - loss: 0.6625 - accuracy: 0.8172 - val_loss: 0.6658 - val_accuracy: 0.6129 - lr: 2.0000e-05\n",
      "Epoch 18/300\n",
      "6/6 [==============================] - 2s 284ms/step - loss: 0.6659 - accuracy: 0.8065 - val_loss: 0.6652 - val_accuracy: 0.6129 - lr: 2.0000e-05\n",
      "Epoch 19/300\n",
      "6/6 [==============================] - 2s 289ms/step - loss: 0.6624 - accuracy: 0.7957 - val_loss: 0.6646 - val_accuracy: 0.6129 - lr: 2.0000e-05\n",
      "Epoch 20/300\n",
      "6/6 [==============================] - 2s 267ms/step - loss: 0.6624 - accuracy: 0.7742 - val_loss: 0.6639 - val_accuracy: 0.6129 - lr: 2.0000e-05\n",
      "Epoch 21/300\n",
      "6/6 [==============================] - 2s 271ms/step - loss: 0.6650 - accuracy: 0.7957 - val_loss: 0.6633 - val_accuracy: 0.6129 - lr: 2.0000e-05\n",
      "Epoch 22/300\n",
      "6/6 [==============================] - 2s 266ms/step - loss: 0.6614 - accuracy: 0.8065 - val_loss: 0.6626 - val_accuracy: 0.6129 - lr: 2.0000e-05\n",
      "Epoch 23/300\n",
      "6/6 [==============================] - 2s 266ms/step - loss: 0.6615 - accuracy: 0.7849 - val_loss: 0.6620 - val_accuracy: 0.5806 - lr: 2.0000e-05\n",
      "Epoch 24/300\n",
      "6/6 [==============================] - 2s 279ms/step - loss: 0.6581 - accuracy: 0.8333 - val_loss: 0.6619 - val_accuracy: 0.5806 - lr: 4.0000e-06\n",
      "Epoch 25/300\n",
      "6/6 [==============================] - 2s 281ms/step - loss: 0.6629 - accuracy: 0.7917 - val_loss: 0.6618 - val_accuracy: 0.5806 - lr: 4.0000e-06\n",
      "Epoch 26/300\n",
      "6/6 [==============================] - 2s 278ms/step - loss: 0.6614 - accuracy: 0.7849 - val_loss: 0.6617 - val_accuracy: 0.5806 - lr: 4.0000e-06\n",
      "Epoch 27/300\n",
      "6/6 [==============================] - 2s 276ms/step - loss: 0.6643 - accuracy: 0.7312 - val_loss: 0.6616 - val_accuracy: 0.5806 - lr: 4.0000e-06\n",
      "Epoch 28/300\n",
      "6/6 [==============================] - 2s 272ms/step - loss: 0.6622 - accuracy: 0.7957 - val_loss: 0.6614 - val_accuracy: 0.5806 - lr: 4.0000e-06\n",
      "Epoch 29/300\n",
      "6/6 [==============================] - 2s 269ms/step - loss: 0.6592 - accuracy: 0.8065 - val_loss: 0.6613 - val_accuracy: 0.5806 - lr: 4.0000e-06\n",
      "Epoch 30/300\n",
      "6/6 [==============================] - 2s 270ms/step - loss: 0.6587 - accuracy: 0.8065 - val_loss: 0.6612 - val_accuracy: 0.5806 - lr: 4.0000e-06\n",
      "Epoch 31/300\n",
      "6/6 [==============================] - 2s 287ms/step - loss: 0.6599 - accuracy: 0.8333 - val_loss: 0.6611 - val_accuracy: 0.5806 - lr: 4.0000e-06\n",
      "Epoch 32/300\n",
      "6/6 [==============================] - 2s 272ms/step - loss: 0.6562 - accuracy: 0.8280 - val_loss: 0.6609 - val_accuracy: 0.5806 - lr: 4.0000e-06\n",
      "Epoch 33/300\n",
      "6/6 [==============================] - 2s 290ms/step - loss: 0.6578 - accuracy: 0.8495 - val_loss: 0.6608 - val_accuracy: 0.5806 - lr: 4.0000e-06\n",
      "Epoch 34/300\n",
      "6/6 [==============================] - 2s 265ms/step - loss: 0.6578 - accuracy: 0.8172 - val_loss: 0.6608 - val_accuracy: 0.5806 - lr: 1.0000e-06\n",
      "Epoch 35/300\n",
      "6/6 [==============================] - 2s 282ms/step - loss: 0.6601 - accuracy: 0.7849 - val_loss: 0.6607 - val_accuracy: 0.5806 - lr: 1.0000e-06\n",
      "Epoch 36/300\n",
      "6/6 [==============================] - 2s 284ms/step - loss: 0.6617 - accuracy: 0.7634 - val_loss: 0.6607 - val_accuracy: 0.5806 - lr: 1.0000e-06\n",
      "Epoch 37/300\n",
      "6/6 [==============================] - 2s 277ms/step - loss: 0.6640 - accuracy: 0.8021 - val_loss: 0.6607 - val_accuracy: 0.5806 - lr: 1.0000e-06\n",
      "Epoch 38/300\n",
      "6/6 [==============================] - 2s 270ms/step - loss: 0.6609 - accuracy: 0.8172 - val_loss: 0.6606 - val_accuracy: 0.5806 - lr: 1.0000e-06\n",
      "Epoch 39/300\n",
      "6/6 [==============================] - 2s 273ms/step - loss: 0.6643 - accuracy: 0.7957 - val_loss: 0.6606 - val_accuracy: 0.5806 - lr: 1.0000e-06\n",
      "Epoch 40/300\n",
      "6/6 [==============================] - 2s 303ms/step - loss: 0.6537 - accuracy: 0.7634 - val_loss: 0.6606 - val_accuracy: 0.5806 - lr: 1.0000e-06\n",
      "Epoch 41/300\n",
      "6/6 [==============================] - 2s 299ms/step - loss: 0.6623 - accuracy: 0.7634 - val_loss: 0.6605 - val_accuracy: 0.5806 - lr: 1.0000e-06\n",
      "Epoch 42/300\n",
      "6/6 [==============================] - 2s 269ms/step - loss: 0.6622 - accuracy: 0.7742 - val_loss: 0.6605 - val_accuracy: 0.5806 - lr: 1.0000e-06\n",
      "Epoch 43/300\n",
      "6/6 [==============================] - 2s 267ms/step - loss: 0.6551 - accuracy: 0.8602 - val_loss: 0.6605 - val_accuracy: 0.5806 - lr: 1.0000e-06\n",
      "Epoch 44/300\n",
      "6/6 [==============================] - 2s 277ms/step - loss: 0.6654 - accuracy: 0.7312 - val_loss: 0.6605 - val_accuracy: 0.5806 - lr: 1.0000e-06\n",
      "Epoch 45/300\n",
      "6/6 [==============================] - 2s 279ms/step - loss: 0.6578 - accuracy: 0.8172 - val_loss: 0.6604 - val_accuracy: 0.5806 - lr: 1.0000e-06\n",
      "Epoch 46/300\n",
      "6/6 [==============================] - 2s 271ms/step - loss: 0.6616 - accuracy: 0.8065 - val_loss: 0.6604 - val_accuracy: 0.5806 - lr: 1.0000e-06\n",
      "Epoch 47/300\n",
      "6/6 [==============================] - 2s 277ms/step - loss: 0.6616 - accuracy: 0.8065 - val_loss: 0.6604 - val_accuracy: 0.5806 - lr: 1.0000e-06\n",
      "Epoch 48/300\n",
      "6/6 [==============================] - 2s 275ms/step - loss: 0.6620 - accuracy: 0.8065 - val_loss: 0.6604 - val_accuracy: 0.5806 - lr: 1.0000e-06\n",
      "Epoch 49/300\n",
      "6/6 [==============================] - 2s 333ms/step - loss: 0.6611 - accuracy: 0.7500 - val_loss: 0.6603 - val_accuracy: 0.5806 - lr: 1.0000e-06\n",
      "Epoch 50/300\n",
      "6/6 [==============================] - 2s 282ms/step - loss: 0.6595 - accuracy: 0.7849 - val_loss: 0.6603 - val_accuracy: 0.5806 - lr: 1.0000e-06\n",
      "Epoch 51/300\n",
      "6/6 [==============================] - 2s 292ms/step - loss: 0.6567 - accuracy: 0.7957 - val_loss: 0.6603 - val_accuracy: 0.5806 - lr: 1.0000e-06\n",
      "Epoch 52/300\n",
      "6/6 [==============================] - 2s 292ms/step - loss: 0.6558 - accuracy: 0.8021 - val_loss: 0.6603 - val_accuracy: 0.5806 - lr: 1.0000e-06\n",
      "Epoch 53/300\n",
      "6/6 [==============================] - 2s 280ms/step - loss: 0.6605 - accuracy: 0.8333 - val_loss: 0.6602 - val_accuracy: 0.5806 - lr: 1.0000e-06\n"
     ]
    }
   ],
   "source": [
    "custom_vgg_model.fit(x = train_ds,\n",
    "          steps_per_epoch = STEP_SIZE_TRAIN,\n",
    "          validation_data = val_ds,\n",
    "          epochs = EPOCHS,\n",
    "          callbacks = callbacks)\n",
    "\n",
    "custom_vgg_model.save('model_vgg.h5')"
   ]
  },
  {
   "cell_type": "code",
   "execution_count": 13,
   "metadata": {},
   "outputs": [],
   "source": [
    "# test_model = tf.keras.models.load_model(\"./Models/best_model.h5\")"
   ]
  },
  {
   "cell_type": "code",
   "execution_count": 14,
   "metadata": {},
   "outputs": [],
   "source": [
    "# test_model.evaluate(test_ds)"
   ]
  },
  {
   "cell_type": "markdown",
   "metadata": {},
   "source": [
    "## Evaluating the model on test set"
   ]
  },
  {
   "cell_type": "code",
   "execution_count": 15,
   "metadata": {},
   "outputs": [
    {
     "name": "stdout",
     "output_type": "stream",
     "text": [
      "2/2 [==============================] - 1s 1s/step - loss: 0.6913 - accuracy: 0.4444\n"
     ]
    },
    {
     "data": {
      "text/plain": [
       "[0.6913400292396545, 0.4444444477558136]"
      ]
     },
     "execution_count": 15,
     "metadata": {},
     "output_type": "execute_result"
    }
   ],
   "source": [
    "custom_vgg_model.evaluate(test_ds)"
   ]
  },
  {
   "cell_type": "code",
   "execution_count": 16,
   "metadata": {},
   "outputs": [],
   "source": [
    "res = custom_vgg_model.predict(test_ds)"
   ]
  },
  {
   "cell_type": "code",
   "execution_count": 17,
   "metadata": {},
   "outputs": [
    {
     "data": {
      "text/plain": [
       "array([[0.50795484],\n",
       "       [0.491943  ],\n",
       "       [0.51976794],\n",
       "       [0.47725675],\n",
       "       [0.4926028 ],\n",
       "       [0.49796885],\n",
       "       [0.49814823],\n",
       "       [0.50853413],\n",
       "       [0.4909898 ],\n",
       "       [0.5008287 ],\n",
       "       [0.49939552],\n",
       "       [0.50007254],\n",
       "       [0.48778868],\n",
       "       [0.5035348 ],\n",
       "       [0.49431938],\n",
       "       [0.503583  ],\n",
       "       [0.51020503],\n",
       "       [0.4971595 ]], dtype=float32)"
      ]
     },
     "execution_count": 17,
     "metadata": {},
     "output_type": "execute_result"
    }
   ],
   "source": [
    "res"
   ]
  },
  {
   "cell_type": "code",
   "execution_count": 18,
   "metadata": {},
   "outputs": [],
   "source": [
    "res[res >= 0.5] = 1"
   ]
  },
  {
   "cell_type": "code",
   "execution_count": 19,
   "metadata": {},
   "outputs": [],
   "source": [
    "res[res < 0.5] = 0"
   ]
  },
  {
   "cell_type": "code",
   "execution_count": 20,
   "metadata": {},
   "outputs": [
    {
     "data": {
      "text/plain": [
       "array([[1.],\n",
       "       [0.],\n",
       "       [1.],\n",
       "       [0.],\n",
       "       [0.],\n",
       "       [0.],\n",
       "       [0.],\n",
       "       [1.],\n",
       "       [0.],\n",
       "       [1.],\n",
       "       [0.],\n",
       "       [1.],\n",
       "       [0.],\n",
       "       [1.],\n",
       "       [0.],\n",
       "       [1.],\n",
       "       [1.],\n",
       "       [0.]], dtype=float32)"
      ]
     },
     "execution_count": 20,
     "metadata": {},
     "output_type": "execute_result"
    }
   ],
   "source": [
    "res"
   ]
  },
  {
   "cell_type": "code",
   "execution_count": 21,
   "metadata": {},
   "outputs": [],
   "source": [
    "# test_ds"
   ]
  },
  {
   "cell_type": "code",
   "execution_count": null,
   "metadata": {},
   "outputs": [],
   "source": []
  },
  {
   "cell_type": "code",
   "execution_count": null,
   "metadata": {},
   "outputs": [],
   "source": []
  },
  {
   "cell_type": "code",
   "execution_count": null,
   "metadata": {},
   "outputs": [],
   "source": []
  },
  {
   "cell_type": "code",
   "execution_count": null,
   "metadata": {},
   "outputs": [],
   "source": []
  },
  {
   "cell_type": "code",
   "execution_count": null,
   "metadata": {},
   "outputs": [],
   "source": []
  },
  {
   "cell_type": "code",
   "execution_count": null,
   "metadata": {},
   "outputs": [],
   "source": []
  },
  {
   "cell_type": "code",
   "execution_count": null,
   "metadata": {},
   "outputs": [],
   "source": []
  },
  {
   "cell_type": "code",
   "execution_count": null,
   "metadata": {},
   "outputs": [],
   "source": []
  },
  {
   "cell_type": "code",
   "execution_count": null,
   "metadata": {},
   "outputs": [],
   "source": []
  },
  {
   "cell_type": "code",
   "execution_count": null,
   "metadata": {},
   "outputs": [],
   "source": []
  },
  {
   "cell_type": "code",
   "execution_count": null,
   "metadata": {},
   "outputs": [],
   "source": []
  },
  {
   "cell_type": "code",
   "execution_count": null,
   "metadata": {},
   "outputs": [],
   "source": []
  },
  {
   "cell_type": "code",
   "execution_count": null,
   "metadata": {},
   "outputs": [],
   "source": []
  },
  {
   "cell_type": "code",
   "execution_count": null,
   "metadata": {},
   "outputs": [],
   "source": []
  },
  {
   "cell_type": "code",
   "execution_count": null,
   "metadata": {},
   "outputs": [],
   "source": []
  },
  {
   "cell_type": "code",
   "execution_count": null,
   "metadata": {},
   "outputs": [],
   "source": []
  }
 ],
 "metadata": {
  "kernelspec": {
   "display_name": "dl",
   "language": "python",
   "name": "dl"
  },
  "language_info": {
   "codemirror_mode": {
    "name": "ipython",
    "version": 3
   },
   "file_extension": ".py",
   "mimetype": "text/x-python",
   "name": "python",
   "nbconvert_exporter": "python",
   "pygments_lexer": "ipython3",
   "version": "3.8.11"
  }
 },
 "nbformat": 4,
 "nbformat_minor": 4
}
