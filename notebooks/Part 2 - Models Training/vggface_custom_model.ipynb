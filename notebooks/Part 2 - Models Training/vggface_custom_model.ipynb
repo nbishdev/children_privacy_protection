{
 "cells": [
  {
   "cell_type": "markdown",
   "metadata": {},
   "source": [
    "# VGGFace ResNet 50 Fine Tuning"
   ]
  },
  {
   "cell_type": "markdown",
   "metadata": {},
   "source": [
    "## Including the needed libraries"
   ]
  },
  {
   "cell_type": "code",
   "execution_count": 1,
   "metadata": {},
   "outputs": [
    {
     "name": "stderr",
     "output_type": "stream",
     "text": [
      "/home/ld/anaconda3/envs/dl/lib/python3.8/site-packages/tensorflow_addons/utils/ensure_tf_install.py:37: UserWarning: You are currently using a nightly version of TensorFlow (2.7.0-dev20210924). \n",
      "TensorFlow Addons offers no support for the nightly versions of TensorFlow. Some things might work, some other might not. \n",
      "If you encounter a bug, do not file an issue on GitHub.\n",
      "  warnings.warn(\n"
     ]
    },
    {
     "name": "stdout",
     "output_type": "stream",
     "text": [
      "TensorFlow Version 2.7.0-dev20210924\n"
     ]
    }
   ],
   "source": [
    "import pandas as pd\n",
    "import numpy as np\n",
    "import tensorflow as tf\n",
    "import tensorflow_addons as tfa\n",
    "import glob, warnings\n",
    "import matplotlib.pyplot as plt\n",
    "from keras_vggface.vggface import VGGFace\n",
    "from sklearn.metrics import confusion_matrix, classification_report\n",
    "from scipy.special import softmax\n",
    "from keras_vggface.vggface import VGGFace\n",
    "\n",
    "warnings.filterwarnings('ignore')\n",
    "print('TensorFlow Version ' + tf.__version__)"
   ]
  },
  {
   "cell_type": "markdown",
   "metadata": {},
   "source": [
    "## Setting the parameters"
   ]
  },
  {
   "cell_type": "code",
   "execution_count": 2,
   "metadata": {},
   "outputs": [],
   "source": [
    "IMAGE_SIZE = 224\n",
    "BATCH_SIZE = 16\n",
    "EPOCHS = 100\n",
    "\n",
    "train_dir = '../dataset/data/classified'\n",
    "val_dir = '../dataset/data/validation'\n",
    "test_dir = '../dataset/data/test'\n",
    "\n",
    "classes = {0 : \"Baby\",\n",
    "           1 : \"Not Baby\"}"
   ]
  },
  {
   "cell_type": "markdown",
   "metadata": {},
   "source": [
    "## Defining Data Augmentation Function"
   ]
  },
  {
   "cell_type": "code",
   "execution_count": 3,
   "metadata": {},
   "outputs": [],
   "source": [
    "def data_augment(image):\n",
    "    p_spatial = tf.random.uniform([], 0, 1.0, dtype = tf.float32)\n",
    "    p_rotate = tf.random.uniform([], 0, 1.0, dtype = tf.float32)\n",
    "    p_pixel_1 = tf.random.uniform([], 0, 1.0, dtype = tf.float32)\n",
    "    p_pixel_2 = tf.random.uniform([], 0, 1.0, dtype = tf.float32)\n",
    "    p_pixel_3 = tf.random.uniform([], 0, 1.0, dtype = tf.float32)\n",
    "    \n",
    "    # Flips\n",
    "    image = tf.image.random_flip_left_right(image)\n",
    "    image = tf.image.random_flip_up_down(image)\n",
    "    \n",
    "    if p_spatial > .75:\n",
    "        image = tf.image.transpose(image)\n",
    "        \n",
    "    # Rotates\n",
    "    if p_rotate > .75:\n",
    "        image = tf.image.rot90(image, k = 3) # rotate 270º\n",
    "    elif p_rotate > .5:\n",
    "        image = tf.image.rot90(image, k = 2) # rotate 180º\n",
    "    elif p_rotate > .25:\n",
    "        image = tf.image.rot90(image, k = 1) # rotate 90º\n",
    "        \n",
    "    # Pixel-level transforms\n",
    "    if p_pixel_1 >= .4:\n",
    "        image = tf.image.random_saturation(image, lower = .7, upper = 1.3)\n",
    "    if p_pixel_2 >= .4:\n",
    "        image = tf.image.random_contrast(image, lower = .8, upper = 1.2)\n",
    "    if p_pixel_3 >= .4:\n",
    "        image = tf.image.random_brightness(image, max_delta = .1)\n",
    "        \n",
    "    return image"
   ]
  },
  {
   "cell_type": "markdown",
   "metadata": {},
   "source": [
    "## Defining Data Generators"
   ]
  },
  {
   "cell_type": "code",
   "execution_count": 4,
   "metadata": {},
   "outputs": [
    {
     "name": "stdout",
     "output_type": "stream",
     "text": [
      "Found 97 images belonging to 2 classes.\n",
      "Found 26 images belonging to 2 classes.\n",
      "Found 18 images belonging to 2 classes.\n"
     ]
    }
   ],
   "source": [
    "datagen = tf.keras.preprocessing.image.ImageDataGenerator(rescale = 1./255,\n",
    "                                                          samplewise_center = True,\n",
    "                                                          samplewise_std_normalization = True,\n",
    "                                                          preprocessing_function = data_augment)\n",
    "\n",
    "val_test_datagen = tf.keras.preprocessing.image.ImageDataGenerator(rescale = 1./255,\n",
    "                                                          samplewise_center = True,\n",
    "                                                          samplewise_std_normalization = True)\n",
    "\n",
    "\n",
    "val_test_datagen.apply_transform\n",
    "\n",
    "train_ds = datagen.flow_from_directory(\n",
    "        train_dir,\n",
    "        target_size=(IMAGE_SIZE, IMAGE_SIZE),\n",
    "        batch_size=BATCH_SIZE,\n",
    "        seed = 1,\n",
    "        color_mode = 'rgb',\n",
    "        shuffle = True,\n",
    "        class_mode='binary')\n",
    "\n",
    "val_ds = val_test_datagen.flow_from_directory(\n",
    "        val_dir,\n",
    "        target_size=(IMAGE_SIZE, IMAGE_SIZE),\n",
    "        batch_size=BATCH_SIZE,\n",
    "        color_mode = 'rgb',\n",
    "        shuffle = True,\n",
    "        class_mode='binary')\n",
    "\n",
    "test_ds = val_test_datagen.flow_from_directory(\n",
    "        test_dir,\n",
    "        target_size=(IMAGE_SIZE, IMAGE_SIZE),\n",
    "        batch_size=BATCH_SIZE,\n",
    "        color_mode = 'rgb',\n",
    "        class_mode='binary')\n",
    "\n",
    "# test_ds = tf.keras.utils.image_dataset_from_directory(\n",
    "#         test_dir,\n",
    "#         image_size=(IMAGE_SIZE, IMAGE_SIZE),\n",
    "#         batch_size=BATCH_SIZE)"
   ]
  },
  {
   "cell_type": "code",
   "execution_count": 5,
   "metadata": {},
   "outputs": [
    {
     "name": "stderr",
     "output_type": "stream",
     "text": [
      "2021-09-26 14:49:20.413678: I tensorflow/stream_executor/cuda/cuda_gpu_executor.cc:939] successful NUMA node read from SysFS had negative value (-1), but there must be at least one NUMA node, so returning NUMA node zero\n",
      "2021-09-26 14:49:20.426153: I tensorflow/stream_executor/cuda/cuda_gpu_executor.cc:939] successful NUMA node read from SysFS had negative value (-1), but there must be at least one NUMA node, so returning NUMA node zero\n",
      "2021-09-26 14:49:20.426759: I tensorflow/stream_executor/cuda/cuda_gpu_executor.cc:939] successful NUMA node read from SysFS had negative value (-1), but there must be at least one NUMA node, so returning NUMA node zero\n",
      "2021-09-26 14:49:20.428706: I tensorflow/stream_executor/cuda/cuda_gpu_executor.cc:939] successful NUMA node read from SysFS had negative value (-1), but there must be at least one NUMA node, so returning NUMA node zero\n",
      "2021-09-26 14:49:20.429476: I tensorflow/stream_executor/cuda/cuda_gpu_executor.cc:939] successful NUMA node read from SysFS had negative value (-1), but there must be at least one NUMA node, so returning NUMA node zero\n",
      "2021-09-26 14:49:20.430091: I tensorflow/stream_executor/cuda/cuda_gpu_executor.cc:939] successful NUMA node read from SysFS had negative value (-1), but there must be at least one NUMA node, so returning NUMA node zero\n",
      "2021-09-26 14:49:21.001178: I tensorflow/stream_executor/cuda/cuda_gpu_executor.cc:939] successful NUMA node read from SysFS had negative value (-1), but there must be at least one NUMA node, so returning NUMA node zero\n",
      "2021-09-26 14:49:21.001583: I tensorflow/stream_executor/cuda/cuda_gpu_executor.cc:939] successful NUMA node read from SysFS had negative value (-1), but there must be at least one NUMA node, so returning NUMA node zero\n",
      "2021-09-26 14:49:21.001947: I tensorflow/stream_executor/cuda/cuda_gpu_executor.cc:939] successful NUMA node read from SysFS had negative value (-1), but there must be at least one NUMA node, so returning NUMA node zero\n",
      "2021-09-26 14:49:21.002293: I tensorflow/core/common_runtime/gpu/gpu_device.cc:1525] Created device /job:localhost/replica:0/task:0/device:GPU:0 with 3432 MB memory:  -> device: 0, name: NVIDIA GeForce GTX 1660 Ti, pci bus id: 0000:01:00.0, compute capability: 7.5\n",
      "Clipping input data to the valid range for imshow with RGB data ([0..1] for floats or [0..255] for integers).\n"
     ]
    },
    {
     "name": "stdout",
     "output_type": "stream",
     "text": [
      "(224, 224, 3)\n"
     ]
    },
    {
     "data": {
      "text/plain": [
       "<matplotlib.image.AxesImage at 0x7f399dc4eca0>"
      ]
     },
     "execution_count": 5,
     "metadata": {},
     "output_type": "execute_result"
    },
    {
     "data": {
      "image/png": "[encoded data removed]",
      "text/plain": [
       "<Figure size 432x288 with 1 Axes>"
      ]
     },
     "metadata": {
      "needs_background": "light"
     },
     "output_type": "display_data"
    }
   ],
   "source": [
    "x = train_ds.next()\n",
    "image = x[0][0]\n",
    "print(image.shape)\n",
    "plt.imshow(image)"
   ]
  },
  {
   "cell_type": "code",
   "execution_count": 6,
   "metadata": {},
   "outputs": [],
   "source": [
    "cat_img = plt.imread('../dataset/data/classified/baby/1.jpeg')"
   ]
  },
  {
   "cell_type": "code",
   "execution_count": 7,
   "metadata": {},
   "outputs": [
    {
     "data": {
      "text/plain": [
       "<matplotlib.image.AxesImage at 0x7f399db9b370>"
      ]
     },
     "execution_count": 7,
     "metadata": {},
     "output_type": "execute_result"
    },
    {
     "data": {
      "image/png": "[encoded data removed]",
      "text/plain": [
       "<Figure size 432x288 with 1 Axes>"
      ]
     },
     "metadata": {
      "needs_background": "light"
     },
     "output_type": "display_data"
    }
   ],
   "source": [
    "plt.imshow(cat_img)"
   ]
  },
  {
   "cell_type": "markdown",
   "metadata": {},
   "source": [
    "## Loading the VGGFace - ResNet - 50 Model"
   ]
  },
  {
   "cell_type": "code",
   "execution_count": 9,
   "metadata": {},
   "outputs": [],
   "source": [
    "vgg_model = VGGFace(model='resnet50', include_top=False, input_shape=(IMAGE_SIZE,IMAGE_SIZE,3) )"
   ]
  },
  {
   "cell_type": "markdown",
   "metadata": {},
   "source": [
    "## Creating the model"
   ]
  },
  {
   "cell_type": "code",
   "execution_count": 10,
   "metadata": {},
   "outputs": [
    {
     "name": "stdout",
     "output_type": "stream",
     "text": [
      "Model: \"model\"\n",
      "__________________________________________________________________________________________________\n",
      " Layer (type)                   Output Shape         Param #     Connected to                     \n",
      "==================================================================================================\n",
      " input_1 (InputLayer)           [(None, 224, 224, 3  0           []                               \n",
      "                                )]                                                                \n",
      "                                                                                                  \n",
      " conv1/7x7_s2 (Conv2D)          (None, 112, 112, 64  9408        ['input_1[0][0]']                \n",
      "                                )                                                                 \n",
      "                                                                                                  \n",
      " conv1/7x7_s2/bn (BatchNormaliz  (None, 112, 112, 64  256        ['conv1/7x7_s2[0][0]']           \n",
      " ation)                         )                                                                 \n",
      "                                                                                                  \n",
      " activation (Activation)        (None, 112, 112, 64  0           ['conv1/7x7_s2/bn[0][0]']        \n",
      "                                )                                                                 \n",
      "                                                                                                  \n",
      " max_pooling2d (MaxPooling2D)   (None, 55, 55, 64)   0           ['activation[0][0]']             \n",
      "                                                                                                  \n",
      " conv2_1_1x1_reduce (Conv2D)    (None, 55, 55, 64)   4096        ['max_pooling2d[0][0]']          \n",
      "                                                                                                  \n",
      " conv2_1_1x1_reduce/bn (BatchNo  (None, 55, 55, 64)  256         ['conv2_1_1x1_reduce[0][0]']     \n",
      " rmalization)                                                                                     \n",
      "                                                                                                  \n",
      " activation_1 (Activation)      (None, 55, 55, 64)   0           ['conv2_1_1x1_reduce/bn[0][0]']  \n",
      "                                                                                                  \n",
      " conv2_1_3x3 (Conv2D)           (None, 55, 55, 64)   36864       ['activation_1[0][0]']           \n",
      "                                                                                                  \n",
      " conv2_1_3x3/bn (BatchNormaliza  (None, 55, 55, 64)  256         ['conv2_1_3x3[0][0]']            \n",
      " tion)                                                                                            \n",
      "                                                                                                  \n",
      " activation_2 (Activation)      (None, 55, 55, 64)   0           ['conv2_1_3x3/bn[0][0]']         \n",
      "                                                                                                  \n",
      " conv2_1_1x1_increase (Conv2D)  (None, 55, 55, 256)  16384       ['activation_2[0][0]']           \n",
      "                                                                                                  \n",
      " conv2_1_1x1_proj (Conv2D)      (None, 55, 55, 256)  16384       ['max_pooling2d[0][0]']          \n",
      "                                                                                                  \n",
      " conv2_1_1x1_increase/bn (Batch  (None, 55, 55, 256)  1024       ['conv2_1_1x1_increase[0][0]']   \n",
      " Normalization)                                                                                   \n",
      "                                                                                                  \n",
      " conv2_1_1x1_proj/bn (BatchNorm  (None, 55, 55, 256)  1024       ['conv2_1_1x1_proj[0][0]']       \n",
      " alization)                                                                                       \n",
      "                                                                                                  \n",
      " add (Add)                      (None, 55, 55, 256)  0           ['conv2_1_1x1_increase/bn[0][0]',\n",
      "                                                                  'conv2_1_1x1_proj/bn[0][0]']    \n",
      "                                                                                                  \n",
      " activation_3 (Activation)      (None, 55, 55, 256)  0           ['add[0][0]']                    \n",
      "                                                                                                  \n",
      " conv2_2_1x1_reduce (Conv2D)    (None, 55, 55, 64)   16384       ['activation_3[0][0]']           \n",
      "                                                                                                  \n",
      " conv2_2_1x1_reduce/bn (BatchNo  (None, 55, 55, 64)  256         ['conv2_2_1x1_reduce[0][0]']     \n",
      " rmalization)                                                                                     \n",
      "                                                                                                  \n",
      " activation_4 (Activation)      (None, 55, 55, 64)   0           ['conv2_2_1x1_reduce/bn[0][0]']  \n",
      "                                                                                                  \n",
      " conv2_2_3x3 (Conv2D)           (None, 55, 55, 64)   36864       ['activation_4[0][0]']           \n",
      "                                                                                                  \n",
      " conv2_2_3x3/bn (BatchNormaliza  (None, 55, 55, 64)  256         ['conv2_2_3x3[0][0]']            \n",
      " tion)                                                                                            \n",
      "                                                                                                  \n",
      " activation_5 (Activation)      (None, 55, 55, 64)   0           ['conv2_2_3x3/bn[0][0]']         \n",
      "                                                                                                  \n",
      " conv2_2_1x1_increase (Conv2D)  (None, 55, 55, 256)  16384       ['activation_5[0][0]']           \n",
      "                                                                                                  \n",
      " conv2_2_1x1_increase/bn (Batch  (None, 55, 55, 256)  1024       ['conv2_2_1x1_increase[0][0]']   \n",
      " Normalization)                                                                                   \n",
      "                                                                                                  \n",
      " add_1 (Add)                    (None, 55, 55, 256)  0           ['conv2_2_1x1_increase/bn[0][0]',\n",
      "                                                                  'activation_3[0][0]']           \n",
      "                                                                                                  \n",
      " activation_6 (Activation)      (None, 55, 55, 256)  0           ['add_1[0][0]']                  \n",
      "                                                                                                  \n",
      " conv2_3_1x1_reduce (Conv2D)    (None, 55, 55, 64)   16384       ['activation_6[0][0]']           \n",
      "                                                                                                  \n",
      " conv2_3_1x1_reduce/bn (BatchNo  (None, 55, 55, 64)  256         ['conv2_3_1x1_reduce[0][0]']     \n",
      " rmalization)                                                                                     \n",
      "                                                                                                  \n",
      " activation_7 (Activation)      (None, 55, 55, 64)   0           ['conv2_3_1x1_reduce/bn[0][0]']  \n",
      "                                                                                                  \n",
      " conv2_3_3x3 (Conv2D)           (None, 55, 55, 64)   36864       ['activation_7[0][0]']           \n",
      "                                                                                                  \n",
      " conv2_3_3x3/bn (BatchNormaliza  (None, 55, 55, 64)  256         ['conv2_3_3x3[0][0]']            \n",
      " tion)                                                                                            \n",
      "                                                                                                  \n",
      " activation_8 (Activation)      (None, 55, 55, 64)   0           ['conv2_3_3x3/bn[0][0]']         \n",
      "                                                                                                  \n",
      " conv2_3_1x1_increase (Conv2D)  (None, 55, 55, 256)  16384       ['activation_8[0][0]']           \n",
      "                                                                                                  \n",
      " conv2_3_1x1_increase/bn (Batch  (None, 55, 55, 256)  1024       ['conv2_3_1x1_increase[0][0]']   \n",
      " Normalization)                                                                                   \n",
      "                                                                                                  \n",
      " add_2 (Add)                    (None, 55, 55, 256)  0           ['conv2_3_1x1_increase/bn[0][0]',\n",
      "                                                                  'activation_6[0][0]']           \n",
      "                                                                                                  \n",
      " activation_9 (Activation)      (None, 55, 55, 256)  0           ['add_2[0][0]']                  \n",
      "                                                                                                  \n",
      " conv3_1_1x1_reduce (Conv2D)    (None, 28, 28, 128)  32768       ['activation_9[0][0]']           \n",
      "                                                                                                  \n",
      " conv3_1_1x1_reduce/bn (BatchNo  (None, 28, 28, 128)  512        ['conv3_1_1x1_reduce[0][0]']     \n",
      " rmalization)                                                                                     \n",
      "                                                                                                  \n",
      " activation_10 (Activation)     (None, 28, 28, 128)  0           ['conv3_1_1x1_reduce/bn[0][0]']  \n",
      "                                                                                                  \n",
      " conv3_1_3x3 (Conv2D)           (None, 28, 28, 128)  147456      ['activation_10[0][0]']          \n",
      "                                                                                                  \n",
      " conv3_1_3x3/bn (BatchNormaliza  (None, 28, 28, 128)  512        ['conv3_1_3x3[0][0]']            \n",
      " tion)                                                                                            \n",
      "                                                                                                  \n",
      " activation_11 (Activation)     (None, 28, 28, 128)  0           ['conv3_1_3x3/bn[0][0]']         \n",
      "                                                                                                  \n",
      " conv3_1_1x1_increase (Conv2D)  (None, 28, 28, 512)  65536       ['activation_11[0][0]']          \n",
      "                                                                                                  \n",
      " conv3_1_1x1_proj (Conv2D)      (None, 28, 28, 512)  131072      ['activation_9[0][0]']           \n",
      "                                                                                                  \n",
      " conv3_1_1x1_increase/bn (Batch  (None, 28, 28, 512)  2048       ['conv3_1_1x1_increase[0][0]']   \n",
      " Normalization)                                                                                   \n",
      "                                                                                                  \n",
      " conv3_1_1x1_proj/bn (BatchNorm  (None, 28, 28, 512)  2048       ['conv3_1_1x1_proj[0][0]']       \n",
      " alization)                                                                                       \n",
      "                                                                                                  \n",
      " add_3 (Add)                    (None, 28, 28, 512)  0           ['conv3_1_1x1_increase/bn[0][0]',\n",
      "                                                                  'conv3_1_1x1_proj/bn[0][0]']    \n",
      "                                                                                                  \n",
      " activation_12 (Activation)     (None, 28, 28, 512)  0           ['add_3[0][0]']                  \n",
      "                                                                                                  \n",
      " conv3_2_1x1_reduce (Conv2D)    (None, 28, 28, 128)  65536       ['activation_12[0][0]']          \n",
      "                                                                                                  \n",
      " conv3_2_1x1_reduce/bn (BatchNo  (None, 28, 28, 128)  512        ['conv3_2_1x1_reduce[0][0]']     \n",
      " rmalization)                                                                                     \n",
      "                                                                                                  \n",
      " activation_13 (Activation)     (None, 28, 28, 128)  0           ['conv3_2_1x1_reduce/bn[0][0]']  \n",
      "                                                                                                  \n",
      " conv3_2_3x3 (Conv2D)           (None, 28, 28, 128)  147456      ['activation_13[0][0]']          \n",
      "                                                                                                  \n",
      " conv3_2_3x3/bn (BatchNormaliza  (None, 28, 28, 128)  512        ['conv3_2_3x3[0][0]']            \n",
      " tion)                                                                                            \n",
      "                                                                                                  \n",
      " activation_14 (Activation)     (None, 28, 28, 128)  0           ['conv3_2_3x3/bn[0][0]']         \n",
      "                                                                                                  \n",
      " conv3_2_1x1_increase (Conv2D)  (None, 28, 28, 512)  65536       ['activation_14[0][0]']          \n",
      "                                                                                                  \n",
      " conv3_2_1x1_increase/bn (Batch  (None, 28, 28, 512)  2048       ['conv3_2_1x1_increase[0][0]']   \n",
      " Normalization)                                                                                   \n",
      "                                                                                                  \n",
      " add_4 (Add)                    (None, 28, 28, 512)  0           ['conv3_2_1x1_increase/bn[0][0]',\n",
      "                                                                  'activation_12[0][0]']          \n",
      "                                                                                                  \n",
      " activation_15 (Activation)     (None, 28, 28, 512)  0           ['add_4[0][0]']                  \n",
      "                                                                                                  \n",
      " conv3_3_1x1_reduce (Conv2D)    (None, 28, 28, 128)  65536       ['activation_15[0][0]']          \n",
      "                                                                                                  \n",
      " conv3_3_1x1_reduce/bn (BatchNo  (None, 28, 28, 128)  512        ['conv3_3_1x1_reduce[0][0]']     \n",
      " rmalization)                                                                                     \n",
      "                                                                                                  \n",
      " activation_16 (Activation)     (None, 28, 28, 128)  0           ['conv3_3_1x1_reduce/bn[0][0]']  \n",
      "                                                                                                  \n",
      " conv3_3_3x3 (Conv2D)           (None, 28, 28, 128)  147456      ['activation_16[0][0]']          \n",
      "                                                                                                  \n",
      " conv3_3_3x3/bn (BatchNormaliza  (None, 28, 28, 128)  512        ['conv3_3_3x3[0][0]']            \n",
      " tion)                                                                                            \n",
      "                                                                                                  \n",
      " activation_17 (Activation)     (None, 28, 28, 128)  0           ['conv3_3_3x3/bn[0][0]']         \n",
      "                                                                                                  \n",
      " conv3_3_1x1_increase (Conv2D)  (None, 28, 28, 512)  65536       ['activation_17[0][0]']          \n",
      "                                                                                                  \n",
      " conv3_3_1x1_increase/bn (Batch  (None, 28, 28, 512)  2048       ['conv3_3_1x1_increase[0][0]']   \n",
      " Normalization)                                                                                   \n",
      "                                                                                                  \n",
      " add_5 (Add)                    (None, 28, 28, 512)  0           ['conv3_3_1x1_increase/bn[0][0]',\n",
      "                                                                  'activation_15[0][0]']          \n",
      "                                                                                                  \n",
      " activation_18 (Activation)     (None, 28, 28, 512)  0           ['add_5[0][0]']                  \n",
      "                                                                                                  \n",
      " conv3_4_1x1_reduce (Conv2D)    (None, 28, 28, 128)  65536       ['activation_18[0][0]']          \n",
      "                                                                                                  \n",
      " conv3_4_1x1_reduce/bn (BatchNo  (None, 28, 28, 128)  512        ['conv3_4_1x1_reduce[0][0]']     \n",
      " rmalization)                                                                                     \n",
      "                                                                                                  \n",
      " activation_19 (Activation)     (None, 28, 28, 128)  0           ['conv3_4_1x1_reduce/bn[0][0]']  \n",
      "                                                                                                  \n",
      " conv3_4_3x3 (Conv2D)           (None, 28, 28, 128)  147456      ['activation_19[0][0]']          \n",
      "                                                                                                  \n",
      " conv3_4_3x3/bn (BatchNormaliza  (None, 28, 28, 128)  512        ['conv3_4_3x3[0][0]']            \n",
      " tion)                                                                                            \n",
      "                                                                                                  \n",
      " activation_20 (Activation)     (None, 28, 28, 128)  0           ['conv3_4_3x3/bn[0][0]']         \n",
      "                                                                                                  \n",
      " conv3_4_1x1_increase (Conv2D)  (None, 28, 28, 512)  65536       ['activation_20[0][0]']          \n",
      "                                                                                                  \n",
      " conv3_4_1x1_increase/bn (Batch  (None, 28, 28, 512)  2048       ['conv3_4_1x1_increase[0][0]']   \n",
      " Normalization)                                                                                   \n",
      "                                                                                                  \n",
      " add_6 (Add)                    (None, 28, 28, 512)  0           ['conv3_4_1x1_increase/bn[0][0]',\n",
      "                                                                  'activation_18[0][0]']          \n",
      "                                                                                                  \n",
      " activation_21 (Activation)     (None, 28, 28, 512)  0           ['add_6[0][0]']                  \n",
      "                                                                                                  \n",
      " conv4_1_1x1_reduce (Conv2D)    (None, 14, 14, 256)  131072      ['activation_21[0][0]']          \n",
      "                                                                                                  \n",
      " conv4_1_1x1_reduce/bn (BatchNo  (None, 14, 14, 256)  1024       ['conv4_1_1x1_reduce[0][0]']     \n",
      " rmalization)                                                                                     \n",
      "                                                                                                  \n",
      " activation_22 (Activation)     (None, 14, 14, 256)  0           ['conv4_1_1x1_reduce/bn[0][0]']  \n",
      "                                                                                                  \n",
      " conv4_1_3x3 (Conv2D)           (None, 14, 14, 256)  589824      ['activation_22[0][0]']          \n",
      "                                                                                                  \n",
      " conv4_1_3x3/bn (BatchNormaliza  (None, 14, 14, 256)  1024       ['conv4_1_3x3[0][0]']            \n",
      " tion)                                                                                            \n",
      "                                                                                                  \n",
      " activation_23 (Activation)     (None, 14, 14, 256)  0           ['conv4_1_3x3/bn[0][0]']         \n",
      "                                                                                                  \n",
      " conv4_1_1x1_increase (Conv2D)  (None, 14, 14, 1024  262144      ['activation_23[0][0]']          \n",
      "                                )                                                                 \n",
      "                                                                                                  \n",
      " conv4_1_1x1_proj (Conv2D)      (None, 14, 14, 1024  524288      ['activation_21[0][0]']          \n",
      "                                )                                                                 \n",
      "                                                                                                  \n",
      " conv4_1_1x1_increase/bn (Batch  (None, 14, 14, 1024  4096       ['conv4_1_1x1_increase[0][0]']   \n",
      " Normalization)                 )                                                                 \n",
      "                                                                                                  \n",
      " conv4_1_1x1_proj/bn (BatchNorm  (None, 14, 14, 1024  4096       ['conv4_1_1x1_proj[0][0]']       \n",
      " alization)                     )                                                                 \n",
      "                                                                                                  \n",
      " add_7 (Add)                    (None, 14, 14, 1024  0           ['conv4_1_1x1_increase/bn[0][0]',\n",
      "                                )                                 'conv4_1_1x1_proj/bn[0][0]']    \n",
      "                                                                                                  \n",
      " activation_24 (Activation)     (None, 14, 14, 1024  0           ['add_7[0][0]']                  \n",
      "                                )                                                                 \n",
      "                                                                                                  \n",
      " conv4_2_1x1_reduce (Conv2D)    (None, 14, 14, 256)  262144      ['activation_24[0][0]']          \n",
      "                                                                                                  \n",
      " conv4_2_1x1_reduce/bn (BatchNo  (None, 14, 14, 256)  1024       ['conv4_2_1x1_reduce[0][0]']     \n",
      " rmalization)                                                                                     \n",
      "                                                                                                  \n",
      " activation_25 (Activation)     (None, 14, 14, 256)  0           ['conv4_2_1x1_reduce/bn[0][0]']  \n",
      "                                                                                                  \n",
      " conv4_2_3x3 (Conv2D)           (None, 14, 14, 256)  589824      ['activation_25[0][0]']          \n",
      "                                                                                                  \n",
      " conv4_2_3x3/bn (BatchNormaliza  (None, 14, 14, 256)  1024       ['conv4_2_3x3[0][0]']            \n",
      " tion)                                                                                            \n",
      "                                                                                                  \n",
      " activation_26 (Activation)     (None, 14, 14, 256)  0           ['conv4_2_3x3/bn[0][0]']         \n",
      "                                                                                                  \n",
      " conv4_2_1x1_increase (Conv2D)  (None, 14, 14, 1024  262144      ['activation_26[0][0]']          \n",
      "                                )                                                                 \n",
      "                                                                                                  \n",
      " conv4_2_1x1_increase/bn (Batch  (None, 14, 14, 1024  4096       ['conv4_2_1x1_increase[0][0]']   \n",
      " Normalization)                 )                                                                 \n",
      "                                                                                                  \n",
      " add_8 (Add)                    (None, 14, 14, 1024  0           ['conv4_2_1x1_increase/bn[0][0]',\n",
      "                                )                                 'activation_24[0][0]']          \n",
      "                                                                                                  \n",
      " activation_27 (Activation)     (None, 14, 14, 1024  0           ['add_8[0][0]']                  \n",
      "                                )                                                                 \n",
      "                                                                                                  \n",
      " conv4_3_1x1_reduce (Conv2D)    (None, 14, 14, 256)  262144      ['activation_27[0][0]']          \n",
      "                                                                                                  \n",
      " conv4_3_1x1_reduce/bn (BatchNo  (None, 14, 14, 256)  1024       ['conv4_3_1x1_reduce[0][0]']     \n",
      " rmalization)                                                                                     \n",
      "                                                                                                  \n",
      " activation_28 (Activation)     (None, 14, 14, 256)  0           ['conv4_3_1x1_reduce/bn[0][0]']  \n",
      "                                                                                                  \n",
      " conv4_3_3x3 (Conv2D)           (None, 14, 14, 256)  589824      ['activation_28[0][0]']          \n",
      "                                                                                                  \n",
      " conv4_3_3x3/bn (BatchNormaliza  (None, 14, 14, 256)  1024       ['conv4_3_3x3[0][0]']            \n",
      " tion)                                                                                            \n",
      "                                                                                                  \n",
      " activation_29 (Activation)     (None, 14, 14, 256)  0           ['conv4_3_3x3/bn[0][0]']         \n",
      "                                                                                                  \n",
      " conv4_3_1x1_increase (Conv2D)  (None, 14, 14, 1024  262144      ['activation_29[0][0]']          \n",
      "                                )                                                                 \n",
      "                                                                                                  \n",
      " conv4_3_1x1_increase/bn (Batch  (None, 14, 14, 1024  4096       ['conv4_3_1x1_increase[0][0]']   \n",
      " Normalization)                 )                                                                 \n",
      "                                                                                                  \n",
      " add_9 (Add)                    (None, 14, 14, 1024  0           ['conv4_3_1x1_increase/bn[0][0]',\n",
      "                                )                                 'activation_27[0][0]']          \n",
      "                                                                                                  \n",
      " activation_30 (Activation)     (None, 14, 14, 1024  0           ['add_9[0][0]']                  \n",
      "                                )                                                                 \n",
      "                                                                                                  \n",
      " conv4_4_1x1_reduce (Conv2D)    (None, 14, 14, 256)  262144      ['activation_30[0][0]']          \n",
      "                                                                                                  \n",
      " conv4_4_1x1_reduce/bn (BatchNo  (None, 14, 14, 256)  1024       ['conv4_4_1x1_reduce[0][0]']     \n",
      " rmalization)                                                                                     \n",
      "                                                                                                  \n",
      " activation_31 (Activation)     (None, 14, 14, 256)  0           ['conv4_4_1x1_reduce/bn[0][0]']  \n",
      "                                                                                                  \n",
      " conv4_4_3x3 (Conv2D)           (None, 14, 14, 256)  589824      ['activation_31[0][0]']          \n",
      "                                                                                                  \n",
      " conv4_4_3x3/bn (BatchNormaliza  (None, 14, 14, 256)  1024       ['conv4_4_3x3[0][0]']            \n",
      " tion)                                                                                            \n",
      "                                                                                                  \n",
      " activation_32 (Activation)     (None, 14, 14, 256)  0           ['conv4_4_3x3/bn[0][0]']         \n",
      "                                                                                                  \n",
      " conv4_4_1x1_increase (Conv2D)  (None, 14, 14, 1024  262144      ['activation_32[0][0]']          \n",
      "                                )                                                                 \n",
      "                                                                                                  \n",
      " conv4_4_1x1_increase/bn (Batch  (None, 14, 14, 1024  4096       ['conv4_4_1x1_increase[0][0]']   \n",
      " Normalization)                 )                                                                 \n",
      "                                                                                                  \n",
      " add_10 (Add)                   (None, 14, 14, 1024  0           ['conv4_4_1x1_increase/bn[0][0]',\n",
      "                                )                                 'activation_30[0][0]']          \n",
      "                                                                                                  \n",
      " activation_33 (Activation)     (None, 14, 14, 1024  0           ['add_10[0][0]']                 \n",
      "                                )                                                                 \n",
      "                                                                                                  \n",
      " conv4_5_1x1_reduce (Conv2D)    (None, 14, 14, 256)  262144      ['activation_33[0][0]']          \n",
      "                                                                                                  \n",
      " conv4_5_1x1_reduce/bn (BatchNo  (None, 14, 14, 256)  1024       ['conv4_5_1x1_reduce[0][0]']     \n",
      " rmalization)                                                                                     \n",
      "                                                                                                  \n",
      " activation_34 (Activation)     (None, 14, 14, 256)  0           ['conv4_5_1x1_reduce/bn[0][0]']  \n",
      "                                                                                                  \n",
      " conv4_5_3x3 (Conv2D)           (None, 14, 14, 256)  589824      ['activation_34[0][0]']          \n",
      "                                                                                                  \n",
      " conv4_5_3x3/bn (BatchNormaliza  (None, 14, 14, 256)  1024       ['conv4_5_3x3[0][0]']            \n",
      " tion)                                                                                            \n",
      "                                                                                                  \n",
      " activation_35 (Activation)     (None, 14, 14, 256)  0           ['conv4_5_3x3/bn[0][0]']         \n",
      "                                                                                                  \n",
      " conv4_5_1x1_increase (Conv2D)  (None, 14, 14, 1024  262144      ['activation_35[0][0]']          \n",
      "                                )                                                                 \n",
      "                                                                                                  \n",
      " conv4_5_1x1_increase/bn (Batch  (None, 14, 14, 1024  4096       ['conv4_5_1x1_increase[0][0]']   \n",
      " Normalization)                 )                                                                 \n",
      "                                                                                                  \n",
      " add_11 (Add)                   (None, 14, 14, 1024  0           ['conv4_5_1x1_increase/bn[0][0]',\n",
      "                                )                                 'activation_33[0][0]']          \n",
      "                                                                                                  \n",
      " activation_36 (Activation)     (None, 14, 14, 1024  0           ['add_11[0][0]']                 \n",
      "                                )                                                                 \n",
      "                                                                                                  \n",
      " conv4_6_1x1_reduce (Conv2D)    (None, 14, 14, 256)  262144      ['activation_36[0][0]']          \n",
      "                                                                                                  \n",
      " conv4_6_1x1_reduce/bn (BatchNo  (None, 14, 14, 256)  1024       ['conv4_6_1x1_reduce[0][0]']     \n",
      " rmalization)                                                                                     \n",
      "                                                                                                  \n",
      " activation_37 (Activation)     (None, 14, 14, 256)  0           ['conv4_6_1x1_reduce/bn[0][0]']  \n",
      "                                                                                                  \n",
      " conv4_6_3x3 (Conv2D)           (None, 14, 14, 256)  589824      ['activation_37[0][0]']          \n",
      "                                                                                                  \n",
      " conv4_6_3x3/bn (BatchNormaliza  (None, 14, 14, 256)  1024       ['conv4_6_3x3[0][0]']            \n",
      " tion)                                                                                            \n",
      "                                                                                                  \n",
      " activation_38 (Activation)     (None, 14, 14, 256)  0           ['conv4_6_3x3/bn[0][0]']         \n",
      "                                                                                                  \n",
      " conv4_6_1x1_increase (Conv2D)  (None, 14, 14, 1024  262144      ['activation_38[0][0]']          \n",
      "                                )                                                                 \n",
      "                                                                                                  \n",
      " conv4_6_1x1_increase/bn (Batch  (None, 14, 14, 1024  4096       ['conv4_6_1x1_increase[0][0]']   \n",
      " Normalization)                 )                                                                 \n",
      "                                                                                                  \n",
      " add_12 (Add)                   (None, 14, 14, 1024  0           ['conv4_6_1x1_increase/bn[0][0]',\n",
      "                                )                                 'activation_36[0][0]']          \n",
      "                                                                                                  \n",
      " activation_39 (Activation)     (None, 14, 14, 1024  0           ['add_12[0][0]']                 \n",
      "                                )                                                                 \n",
      "                                                                                                  \n",
      " conv5_1_1x1_reduce (Conv2D)    (None, 7, 7, 512)    524288      ['activation_39[0][0]']          \n",
      "                                                                                                  \n",
      " conv5_1_1x1_reduce/bn (BatchNo  (None, 7, 7, 512)   2048        ['conv5_1_1x1_reduce[0][0]']     \n",
      " rmalization)                                                                                     \n",
      "                                                                                                  \n",
      " activation_40 (Activation)     (None, 7, 7, 512)    0           ['conv5_1_1x1_reduce/bn[0][0]']  \n",
      "                                                                                                  \n",
      " conv5_1_3x3 (Conv2D)           (None, 7, 7, 512)    2359296     ['activation_40[0][0]']          \n",
      "                                                                                                  \n",
      " conv5_1_3x3/bn (BatchNormaliza  (None, 7, 7, 512)   2048        ['conv5_1_3x3[0][0]']            \n",
      " tion)                                                                                            \n",
      "                                                                                                  \n",
      " activation_41 (Activation)     (None, 7, 7, 512)    0           ['conv5_1_3x3/bn[0][0]']         \n",
      "                                                                                                  \n",
      " conv5_1_1x1_increase (Conv2D)  (None, 7, 7, 2048)   1048576     ['activation_41[0][0]']          \n",
      "                                                                                                  \n",
      " conv5_1_1x1_proj (Conv2D)      (None, 7, 7, 2048)   2097152     ['activation_39[0][0]']          \n",
      "                                                                                                  \n",
      " conv5_1_1x1_increase/bn (Batch  (None, 7, 7, 2048)  8192        ['conv5_1_1x1_increase[0][0]']   \n",
      " Normalization)                                                                                   \n",
      "                                                                                                  \n",
      " conv5_1_1x1_proj/bn (BatchNorm  (None, 7, 7, 2048)  8192        ['conv5_1_1x1_proj[0][0]']       \n",
      " alization)                                                                                       \n",
      "                                                                                                  \n",
      " add_13 (Add)                   (None, 7, 7, 2048)   0           ['conv5_1_1x1_increase/bn[0][0]',\n",
      "                                                                  'conv5_1_1x1_proj/bn[0][0]']    \n",
      "                                                                                                  \n",
      " activation_42 (Activation)     (None, 7, 7, 2048)   0           ['add_13[0][0]']                 \n",
      "                                                                                                  \n",
      " conv5_2_1x1_reduce (Conv2D)    (None, 7, 7, 512)    1048576     ['activation_42[0][0]']          \n",
      "                                                                                                  \n",
      " conv5_2_1x1_reduce/bn (BatchNo  (None, 7, 7, 512)   2048        ['conv5_2_1x1_reduce[0][0]']     \n",
      " rmalization)                                                                                     \n",
      "                                                                                                  \n",
      " activation_43 (Activation)     (None, 7, 7, 512)    0           ['conv5_2_1x1_reduce/bn[0][0]']  \n",
      "                                                                                                  \n",
      " conv5_2_3x3 (Conv2D)           (None, 7, 7, 512)    2359296     ['activation_43[0][0]']          \n",
      "                                                                                                  \n",
      " conv5_2_3x3/bn (BatchNormaliza  (None, 7, 7, 512)   2048        ['conv5_2_3x3[0][0]']            \n",
      " tion)                                                                                            \n",
      "                                                                                                  \n",
      " activation_44 (Activation)     (None, 7, 7, 512)    0           ['conv5_2_3x3/bn[0][0]']         \n",
      "                                                                                                  \n",
      " conv5_2_1x1_increase (Conv2D)  (None, 7, 7, 2048)   1048576     ['activation_44[0][0]']          \n",
      "                                                                                                  \n",
      " conv5_2_1x1_increase/bn (Batch  (None, 7, 7, 2048)  8192        ['conv5_2_1x1_increase[0][0]']   \n",
      " Normalization)                                                                                   \n",
      "                                                                                                  \n",
      " add_14 (Add)                   (None, 7, 7, 2048)   0           ['conv5_2_1x1_increase/bn[0][0]',\n",
      "                                                                  'activation_42[0][0]']          \n",
      "                                                                                                  \n",
      " activation_45 (Activation)     (None, 7, 7, 2048)   0           ['add_14[0][0]']                 \n",
      "                                                                                                  \n",
      " conv5_3_1x1_reduce (Conv2D)    (None, 7, 7, 512)    1048576     ['activation_45[0][0]']          \n",
      "                                                                                                  \n",
      " conv5_3_1x1_reduce/bn (BatchNo  (None, 7, 7, 512)   2048        ['conv5_3_1x1_reduce[0][0]']     \n",
      " rmalization)                                                                                     \n",
      "                                                                                                  \n",
      " activation_46 (Activation)     (None, 7, 7, 512)    0           ['conv5_3_1x1_reduce/bn[0][0]']  \n",
      "                                                                                                  \n",
      " conv5_3_3x3 (Conv2D)           (None, 7, 7, 512)    2359296     ['activation_46[0][0]']          \n",
      "                                                                                                  \n",
      " conv5_3_3x3/bn (BatchNormaliza  (None, 7, 7, 512)   2048        ['conv5_3_3x3[0][0]']            \n",
      " tion)                                                                                            \n",
      "                                                                                                  \n",
      " activation_47 (Activation)     (None, 7, 7, 512)    0           ['conv5_3_3x3/bn[0][0]']         \n",
      "                                                                                                  \n",
      " conv5_3_1x1_increase (Conv2D)  (None, 7, 7, 2048)   1048576     ['activation_47[0][0]']          \n",
      "                                                                                                  \n",
      " conv5_3_1x1_increase/bn (Batch  (None, 7, 7, 2048)  8192        ['conv5_3_1x1_increase[0][0]']   \n",
      " Normalization)                                                                                   \n",
      "                                                                                                  \n",
      " add_15 (Add)                   (None, 7, 7, 2048)   0           ['conv5_3_1x1_increase/bn[0][0]',\n",
      "                                                                  'activation_45[0][0]']          \n",
      "                                                                                                  \n",
      " activation_48 (Activation)     (None, 7, 7, 2048)   0           ['add_15[0][0]']                 \n",
      "                                                                                                  \n",
      " avg_pool (AveragePooling2D)    (None, 1, 1, 2048)   0           ['activation_48[0][0]']          \n",
      "                                                                                                  \n",
      " flatten (Flatten)              (None, 2048)         0           ['avg_pool[0][0]']               \n",
      "                                                                                                  \n",
      " classifier (Dense)             (None, 1)            2049        ['flatten[0][0]']                \n",
      "                                                                                                  \n",
      "==================================================================================================\n",
      "Total params: 23,563,201\n",
      "Trainable params: 23,510,081\n",
      "Non-trainable params: 53,120\n",
      "__________________________________________________________________________________________________\n"
     ]
    }
   ],
   "source": [
    "last_layer = vgg_model.get_layer('avg_pool').output\n",
    "x = tf.keras.layers.Flatten(name='flatten')(last_layer)\n",
    "out = tf.keras.layers.Dense(1, activation='sigmoid', name='classifier')(x)\n",
    "custom_vgg_model = tf.keras.Model(vgg_model.input, out)\n",
    "\n",
    "custom_vgg_model.summary()"
   ]
  },
  {
   "cell_type": "markdown",
   "metadata": {},
   "source": [
    "## Defining Callbacks"
   ]
  },
  {
   "cell_type": "code",
   "execution_count": 11,
   "metadata": {},
   "outputs": [],
   "source": [
    "learning_rate = 1e-4\n",
    "\n",
    "optimizer = tf.optimizers.Adam(learning_rate = learning_rate)\n",
    "\n",
    "custom_vgg_model.compile(optimizer = optimizer, \n",
    "              loss = tf.keras.losses.binary_crossentropy, \n",
    "              metrics = ['accuracy'])\n",
    "\n",
    "STEP_SIZE_TRAIN = train_ds.n // train_ds.batch_size\n",
    "# STEP_SIZE_VALID = val_ds.n // val_ds.batch_size\n",
    "\n",
    "reduce_lr = tf.keras.callbacks.ReduceLROnPlateau(monitor = 'val_accuracy',\n",
    "                                                 factor = 0.2,\n",
    "                                                 patience = 10,\n",
    "#                                                  verbose = 1,\n",
    "                                                 min_delta = 1e-4,\n",
    "                                                 min_lr = 1e-6,\n",
    "                                                 mode = 'max')\n",
    "\n",
    "earlystopping = tf.keras.callbacks.EarlyStopping(monitor = 'val_accuracy',\n",
    "                                                 min_delta = 1e-4,\n",
    "                                                 patience = 30,\n",
    "                                                 mode = 'max',\n",
    "#                                                  verbose = 1,\n",
    "                                                 restore_best_weights = True)\n",
    "\n",
    "checkpointer = tf.keras.callbacks.ModelCheckpoint(filepath = './model_vgg.hdf5',\n",
    "                                                  monitor = 'val_accuracy', \n",
    "#                                                   verbose = 1, \n",
    "                                                  save_best_only = True,\n",
    "                                                  save_weights_only = True,\n",
    "                                                  mode = 'max')\n",
    "\n",
    "callbacks = [checkpointer, earlystopping, reduce_lr] #reduce_lr earlystopping\n",
    "\n"
   ]
  },
  {
   "cell_type": "markdown",
   "metadata": {},
   "source": [
    "## Training the Model"
   ]
  },
  {
   "cell_type": "code",
   "execution_count": 12,
   "metadata": {},
   "outputs": [
    {
     "name": "stdout",
     "output_type": "stream",
     "text": [
      "Epoch 1/100\n"
     ]
    },
    {
     "name": "stderr",
     "output_type": "stream",
     "text": [
      "2021-09-26 14:49:28.601781: I tensorflow/stream_executor/cuda/cuda_dnn.cc:366] Loaded cuDNN version 8202\n",
      "2021-09-26 14:49:30.580327: W tensorflow/core/common_runtime/bfc_allocator.cc:275] Allocator (GPU_0_bfc) ran out of memory trying to allocate 2.29GiB with freed_by_count=0. The caller indicates that this is not a failure, but may mean that there could be performance gains if more memory were available.\n",
      "2021-09-26 14:49:30.580443: W tensorflow/core/common_runtime/bfc_allocator.cc:275] Allocator (GPU_0_bfc) ran out of memory trying to allocate 2.29GiB with freed_by_count=0. The caller indicates that this is not a failure, but may mean that there could be performance gains if more memory were available.\n",
      "2021-09-26 14:49:30.606542: W tensorflow/core/common_runtime/bfc_allocator.cc:275] Allocator (GPU_0_bfc) ran out of memory trying to allocate 2.34GiB with freed_by_count=0. The caller indicates that this is not a failure, but may mean that there could be performance gains if more memory were available.\n",
      "2021-09-26 14:49:30.606670: W tensorflow/core/common_runtime/bfc_allocator.cc:275] Allocator (GPU_0_bfc) ran out of memory trying to allocate 2.34GiB with freed_by_count=0. The caller indicates that this is not a failure, but may mean that there could be performance gains if more memory were available.\n",
      "2021-09-26 14:49:30.736772: W tensorflow/core/common_runtime/bfc_allocator.cc:275] Allocator (GPU_0_bfc) ran out of memory trying to allocate 2.34GiB with freed_by_count=0. The caller indicates that this is not a failure, but may mean that there could be performance gains if more memory were available.\n",
      "2021-09-26 14:49:30.736871: W tensorflow/core/common_runtime/bfc_allocator.cc:275] Allocator (GPU_0_bfc) ran out of memory trying to allocate 2.34GiB with freed_by_count=0. The caller indicates that this is not a failure, but may mean that there could be performance gains if more memory were available.\n",
      "2021-09-26 14:49:30.756042: W tensorflow/core/common_runtime/bfc_allocator.cc:275] Allocator (GPU_0_bfc) ran out of memory trying to allocate 2.27GiB with freed_by_count=0. The caller indicates that this is not a failure, but may mean that there could be performance gains if more memory were available.\n",
      "2021-09-26 14:49:30.756138: W tensorflow/core/common_runtime/bfc_allocator.cc:275] Allocator (GPU_0_bfc) ran out of memory trying to allocate 2.27GiB with freed_by_count=0. The caller indicates that this is not a failure, but may mean that there could be performance gains if more memory were available.\n",
      "2021-09-26 14:49:30.866087: W tensorflow/core/common_runtime/bfc_allocator.cc:275] Allocator (GPU_0_bfc) ran out of memory trying to allocate 2.27GiB with freed_by_count=0. The caller indicates that this is not a failure, but may mean that there could be performance gains if more memory were available.\n",
      "2021-09-26 14:49:30.866228: W tensorflow/core/common_runtime/bfc_allocator.cc:275] Allocator (GPU_0_bfc) ran out of memory trying to allocate 2.27GiB with freed_by_count=0. The caller indicates that this is not a failure, but may mean that there could be performance gains if more memory were available.\n"
     ]
    },
    {
     "name": "stdout",
     "output_type": "stream",
     "text": [
      "6/6 [==============================] - 13s 916ms/step - loss: 1.0349 - accuracy: 0.6296 - val_loss: 3.1814 - val_accuracy: 0.4231 - lr: 1.0000e-04\n",
      "Epoch 2/100\n",
      "6/6 [==============================] - 2s 329ms/step - loss: 0.2781 - accuracy: 0.8519 - val_loss: 2.9073 - val_accuracy: 0.4231 - lr: 1.0000e-04\n",
      "Epoch 3/100\n",
      "6/6 [==============================] - 3s 585ms/step - loss: 0.4721 - accuracy: 0.8889 - val_loss: 3.6721 - val_accuracy: 0.5769 - lr: 1.0000e-04\n",
      "Epoch 4/100\n",
      "6/6 [==============================] - 2s 301ms/step - loss: 0.4140 - accuracy: 0.9259 - val_loss: 10.5562 - val_accuracy: 0.5769 - lr: 1.0000e-04\n",
      "Epoch 5/100\n",
      "6/6 [==============================] - 2s 326ms/step - loss: 0.5844 - accuracy: 0.8519 - val_loss: 12.2072 - val_accuracy: 0.5769 - lr: 1.0000e-04\n",
      "Epoch 6/100\n",
      "6/6 [==============================] - 2s 303ms/step - loss: 0.7369 - accuracy: 0.8519 - val_loss: 4.3273 - val_accuracy: 0.5769 - lr: 1.0000e-04\n",
      "Epoch 7/100\n",
      "6/6 [==============================] - 2s 292ms/step - loss: 0.2641 - accuracy: 0.9012 - val_loss: 7.6973 - val_accuracy: 0.4231 - lr: 1.0000e-04\n",
      "Epoch 8/100\n",
      "6/6 [==============================] - 2s 297ms/step - loss: 0.0675 - accuracy: 0.9753 - val_loss: 10.5242 - val_accuracy: 0.4231 - lr: 1.0000e-04\n",
      "Epoch 9/100\n",
      "6/6 [==============================] - 2s 284ms/step - loss: 0.0796 - accuracy: 0.9753 - val_loss: 8.3377 - val_accuracy: 0.4231 - lr: 1.0000e-04\n",
      "Epoch 10/100\n",
      "6/6 [==============================] - 2s 338ms/step - loss: 0.1717 - accuracy: 0.9136 - val_loss: 4.1264 - val_accuracy: 0.4231 - lr: 1.0000e-04\n",
      "Epoch 11/100\n",
      "6/6 [==============================] - 2s 347ms/step - loss: 0.2935 - accuracy: 0.9375 - val_loss: 1.1573 - val_accuracy: 0.4231 - lr: 1.0000e-04\n",
      "Epoch 12/100\n",
      "6/6 [==============================] - 2s 293ms/step - loss: 0.0864 - accuracy: 0.9753 - val_loss: 0.7200 - val_accuracy: 0.5769 - lr: 1.0000e-04\n",
      "Epoch 13/100\n",
      "6/6 [==============================] - 2s 342ms/step - loss: 0.1213 - accuracy: 0.9383 - val_loss: 1.0219 - val_accuracy: 0.3846 - lr: 1.0000e-04\n",
      "Epoch 14/100\n",
      "6/6 [==============================] - 2s 341ms/step - loss: 0.1049 - accuracy: 0.9479 - val_loss: 0.8322 - val_accuracy: 0.3846 - lr: 2.0000e-05\n",
      "Epoch 15/100\n",
      "6/6 [==============================] - 2s 299ms/step - loss: 0.3024 - accuracy: 0.8889 - val_loss: 0.8466 - val_accuracy: 0.5769 - lr: 2.0000e-05\n",
      "Epoch 16/100\n",
      "6/6 [==============================] - 2s 341ms/step - loss: 0.1473 - accuracy: 0.9630 - val_loss: 1.7055 - val_accuracy: 0.5769 - lr: 2.0000e-05\n",
      "Epoch 17/100\n",
      "6/6 [==============================] - 2s 289ms/step - loss: 0.0514 - accuracy: 0.9630 - val_loss: 2.7994 - val_accuracy: 0.5769 - lr: 2.0000e-05\n",
      "Epoch 18/100\n",
      "6/6 [==============================] - 2s 337ms/step - loss: 0.0865 - accuracy: 0.9753 - val_loss: 3.4510 - val_accuracy: 0.5769 - lr: 2.0000e-05\n",
      "Epoch 19/100\n",
      "6/6 [==============================] - 2s 288ms/step - loss: 0.0960 - accuracy: 0.9506 - val_loss: 3.7602 - val_accuracy: 0.5769 - lr: 2.0000e-05\n",
      "Epoch 20/100\n",
      "6/6 [==============================] - 2s 296ms/step - loss: 0.0188 - accuracy: 1.0000 - val_loss: 3.8534 - val_accuracy: 0.5769 - lr: 2.0000e-05\n",
      "Epoch 21/100\n",
      "6/6 [==============================] - 2s 290ms/step - loss: 0.1279 - accuracy: 0.9630 - val_loss: 3.7409 - val_accuracy: 0.5769 - lr: 2.0000e-05\n",
      "Epoch 22/100\n",
      "6/6 [==============================] - 2s 292ms/step - loss: 0.0777 - accuracy: 0.9753 - val_loss: 3.8786 - val_accuracy: 0.5769 - lr: 2.0000e-05\n",
      "Epoch 23/100\n",
      "6/6 [==============================] - 2s 288ms/step - loss: 0.0614 - accuracy: 0.9753 - val_loss: 3.9796 - val_accuracy: 0.5769 - lr: 2.0000e-05\n",
      "Epoch 24/100\n",
      "6/6 [==============================] - 2s 303ms/step - loss: 0.1002 - accuracy: 0.9630 - val_loss: 3.9800 - val_accuracy: 0.5769 - lr: 4.0000e-06\n",
      "Epoch 25/100\n",
      "6/6 [==============================] - 2s 344ms/step - loss: 0.0561 - accuracy: 0.9688 - val_loss: 3.7912 - val_accuracy: 0.5769 - lr: 4.0000e-06\n",
      "Epoch 26/100\n",
      "6/6 [==============================] - 2s 339ms/step - loss: 0.0130 - accuracy: 1.0000 - val_loss: 3.6315 - val_accuracy: 0.5769 - lr: 4.0000e-06\n",
      "Epoch 27/100\n",
      "6/6 [==============================] - 2s 292ms/step - loss: 0.0246 - accuracy: 0.9877 - val_loss: 3.5873 - val_accuracy: 0.5769 - lr: 4.0000e-06\n",
      "Epoch 28/100\n",
      "6/6 [==============================] - 2s 289ms/step - loss: 0.0406 - accuracy: 0.9877 - val_loss: 3.5930 - val_accuracy: 0.5769 - lr: 4.0000e-06\n",
      "Epoch 29/100\n",
      "6/6 [==============================] - 2s 293ms/step - loss: 0.0485 - accuracy: 0.9877 - val_loss: 3.5968 - val_accuracy: 0.5769 - lr: 4.0000e-06\n",
      "Epoch 30/100\n",
      "6/6 [==============================] - 2s 292ms/step - loss: 0.0300 - accuracy: 0.9877 - val_loss: 3.4391 - val_accuracy: 0.5769 - lr: 4.0000e-06\n",
      "Epoch 31/100\n",
      "6/6 [==============================] - 2s 287ms/step - loss: 0.0408 - accuracy: 0.9877 - val_loss: 3.3594 - val_accuracy: 0.5769 - lr: 4.0000e-06\n",
      "Epoch 32/100\n",
      "6/6 [==============================] - 2s 340ms/step - loss: 0.0317 - accuracy: 0.9877 - val_loss: 3.3541 - val_accuracy: 0.5769 - lr: 4.0000e-06\n",
      "Epoch 33/100\n",
      "6/6 [==============================] - 2s 312ms/step - loss: 0.0441 - accuracy: 0.9877 - val_loss: 3.2013 - val_accuracy: 0.5769 - lr: 4.0000e-06\n"
     ]
    }
   ],
   "source": [
    "custom_vgg_model.fit(x = train_ds,\n",
    "          steps_per_epoch = STEP_SIZE_TRAIN,\n",
    "          validation_data = val_ds,\n",
    "          epochs = EPOCHS,\n",
    "          callbacks = callbacks)\n",
    "\n",
    "custom_vgg_model.save('model_vgg.h5')"
   ]
  },
  {
   "cell_type": "code",
   "execution_count": 13,
   "metadata": {},
   "outputs": [],
   "source": [
    "# test_model = tf.keras.models.load_model(\"./Models/best_model.h5\")"
   ]
  },
  {
   "cell_type": "code",
   "execution_count": 14,
   "metadata": {},
   "outputs": [],
   "source": [
    "# test_model.evaluate(test_ds)"
   ]
  },
  {
   "cell_type": "markdown",
   "metadata": {},
   "source": [
    "## Evaluating the model on test set"
   ]
  },
  {
   "cell_type": "code",
   "execution_count": 15,
   "metadata": {},
   "outputs": [
    {
     "name": "stdout",
     "output_type": "stream",
     "text": [
      "2/2 [==============================] - 1s 430ms/step - loss: 3.9394 - accuracy: 0.5556\n"
     ]
    },
    {
     "data": {
      "text/plain": [
       "[3.9393534660339355, 0.5555555820465088]"
      ]
     },
     "execution_count": 15,
     "metadata": {},
     "output_type": "execute_result"
    }
   ],
   "source": [
    "custom_vgg_model.evaluate(test_ds)"
   ]
  },
  {
   "cell_type": "code",
   "execution_count": 18,
   "metadata": {},
   "outputs": [],
   "source": [
    "res = model.predict(test_ds)"
   ]
  },
  {
   "cell_type": "code",
   "execution_count": 19,
   "metadata": {},
   "outputs": [
    {
     "data": {
      "text/plain": [
       "array([[0.9755358 ],\n",
       "       [0.87546635],\n",
       "       [0.05417393],\n",
       "       [0.63265073],\n",
       "       [0.9689089 ],\n",
       "       [0.1931679 ],\n",
       "       [0.13536948],\n",
       "       [0.35692495],\n",
       "       [0.6747467 ],\n",
       "       [0.89792514],\n",
       "       [0.20051332],\n",
       "       [0.97407496],\n",
       "       [0.92489886],\n",
       "       [0.21409726],\n",
       "       [0.05386358],\n",
       "       [0.983214  ],\n",
       "       [0.26398355],\n",
       "       [0.99903893]], dtype=float32)"
      ]
     },
     "execution_count": 19,
     "metadata": {},
     "output_type": "execute_result"
    }
   ],
   "source": [
    "res"
   ]
  },
  {
   "cell_type": "code",
   "execution_count": 20,
   "metadata": {},
   "outputs": [],
   "source": [
    "res[res >= 0.5] = 1"
   ]
  },
  {
   "cell_type": "code",
   "execution_count": 21,
   "metadata": {},
   "outputs": [],
   "source": [
    "res[res < 0.5] = 0"
   ]
  },
  {
   "cell_type": "code",
   "execution_count": 22,
   "metadata": {},
   "outputs": [
    {
     "data": {
      "text/plain": [
       "array([[1.],\n",
       "       [1.],\n",
       "       [0.],\n",
       "       [1.],\n",
       "       [1.],\n",
       "       [0.],\n",
       "       [0.],\n",
       "       [0.],\n",
       "       [1.],\n",
       "       [1.],\n",
       "       [0.],\n",
       "       [1.],\n",
       "       [1.],\n",
       "       [0.],\n",
       "       [0.],\n",
       "       [1.],\n",
       "       [0.],\n",
       "       [1.]], dtype=float32)"
      ]
     },
     "execution_count": 22,
     "metadata": {},
     "output_type": "execute_result"
    }
   ],
   "source": [
    "res"
   ]
  },
  {
   "cell_type": "code",
   "execution_count": 23,
   "metadata": {},
   "outputs": [],
   "source": [
    "# test_ds"
   ]
  },
  {
   "cell_type": "code",
   "execution_count": null,
   "metadata": {},
   "outputs": [],
   "source": []
  },
  {
   "cell_type": "code",
   "execution_count": null,
   "metadata": {},
   "outputs": [],
   "source": []
  },
  {
   "cell_type": "code",
   "execution_count": null,
   "metadata": {},
   "outputs": [],
   "source": []
  },
  {
   "cell_type": "code",
   "execution_count": null,
   "metadata": {},
   "outputs": [],
   "source": []
  },
  {
   "cell_type": "code",
   "execution_count": null,
   "metadata": {},
   "outputs": [],
   "source": []
  },
  {
   "cell_type": "code",
   "execution_count": null,
   "metadata": {},
   "outputs": [],
   "source": []
  },
  {
   "cell_type": "code",
   "execution_count": null,
   "metadata": {},
   "outputs": [],
   "source": []
  },
  {
   "cell_type": "code",
   "execution_count": null,
   "metadata": {},
   "outputs": [],
   "source": []
  },
  {
   "cell_type": "code",
   "execution_count": null,
   "metadata": {},
   "outputs": [],
   "source": []
  },
  {
   "cell_type": "code",
   "execution_count": null,
   "metadata": {},
   "outputs": [],
   "source": []
  },
  {
   "cell_type": "code",
   "execution_count": null,
   "metadata": {},
   "outputs": [],
   "source": []
  },
  {
   "cell_type": "code",
   "execution_count": null,
   "metadata": {},
   "outputs": [],
   "source": []
  },
  {
   "cell_type": "code",
   "execution_count": null,
   "metadata": {},
   "outputs": [],
   "source": []
  },
  {
   "cell_type": "code",
   "execution_count": null,
   "metadata": {},
   "outputs": [],
   "source": []
  },
  {
   "cell_type": "code",
   "execution_count": null,
   "metadata": {},
   "outputs": [],
   "source": []
  },
  {
   "cell_type": "code",
   "execution_count": null,
   "metadata": {},
   "outputs": [],
   "source": []
  }
 ],
 "metadata": {
  "kernelspec": {
   "display_name": "dl",
   "language": "python",
   "name": "dl"
  },
  "language_info": {
   "codemirror_mode": {
    "name": "ipython",
    "version": 3
   },
   "file_extension": ".py",
   "mimetype": "text/x-python",
   "name": "python",
   "nbconvert_exporter": "python",
   "pygments_lexer": "ipython3",
   "version": "3.8.11"
  }
 },
 "nbformat": 4,
 "nbformat_minor": 4
}
